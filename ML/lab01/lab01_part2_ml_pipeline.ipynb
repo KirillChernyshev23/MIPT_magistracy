{
 "cells": [
  {
   "cell_type": "markdown",
   "metadata": {
    "nbgrader": {
     "grade": false,
     "grade_id": "cell-86e0de040aac317a",
     "locked": true,
     "schema_version": 2,
     "solution": false
    }
   },
   "source": [
    "# Lab assignment №1, part 2\n",
    "\n",
    "This lab assignment consists of several parts. You are supposed to make some transformations, train some models, estimate the quality of the models and explain your results.\n",
    "\n",
    "Several comments:\n",
    "* Don't hesitate to ask questions, it's a good practice.\n",
    "* No private/public sharing, please. The copied assignments will be graded with 0 points.\n",
    "* Blocks of this lab will be graded separately."
   ]
  },
  {
   "cell_type": "markdown",
   "metadata": {},
   "source": [
    "__*This is the second part of the assignment. First and third parts are waiting for you in the same directory.*__"
   ]
  },
  {
   "cell_type": "markdown",
   "metadata": {
    "nbgrader": {
     "grade": false,
     "grade_id": "cell-512ba712fc0fc065",
     "locked": true,
     "schema_version": 2,
     "solution": false
    }
   },
   "source": [
    "## Part 2. Data preprocessing, model training and evaluation."
   ]
  },
  {
   "cell_type": "markdown",
   "metadata": {
    "nbgrader": {
     "grade": false,
     "grade_id": "cell-b656a4266174b009",
     "locked": true,
     "schema_version": 2,
     "solution": false
    }
   },
   "source": [
    "### 1. Reading the data\n",
    "Today we work with the [dataset](https://archive.ics.uci.edu/ml/datasets/Statlog+%28Vehicle+Silhouettes%29), describing different cars for multiclass ($k=4$) classification problem. The data is available below."
   ]
  },
  {
   "cell_type": "code",
   "execution_count": 1,
   "metadata": {},
   "outputs": [],
   "source": [
    "# If on colab, uncomment the following lines\n",
    "\n",
    "# ! wget https://raw.githubusercontent.com/girafe-ai/ml-course/22f_made/homeworks/lab01_ml_pipeline/car_data.csv"
   ]
  },
  {
   "cell_type": "code",
   "execution_count": 2,
   "metadata": {
    "nbgrader": {
     "grade": false,
     "grade_id": "cell-eebac6bfdf73d0bc",
     "locked": true,
     "schema_version": 2,
     "solution": false
    }
   },
   "outputs": [
    {
     "name": "stdout",
     "output_type": "stream",
     "text": [
      "(846, 19) (846,)\n",
      "(549, 19) (549,) (297, 19) (297,)\n"
     ]
    }
   ],
   "source": [
    "import pandas as pd\n",
    "import numpy as np\n",
    "from sklearn.model_selection import train_test_split\n",
    "\n",
    "dataset = pd.read_csv('car_data.csv', delimiter=',', header=None).values\n",
    "data = dataset[:, :-1].astype(int)\n",
    "target = dataset[:, -1]\n",
    "\n",
    "print(data.shape, target.shape)\n",
    "\n",
    "X_train, X_test, y_train, y_test = train_test_split(data, target, test_size=0.35)\n",
    "print(X_train.shape, y_train.shape, X_test.shape, y_test.shape)"
   ]
  },
  {
   "cell_type": "markdown",
   "metadata": {
    "nbgrader": {
     "grade": false,
     "grade_id": "cell-88b1a0f688568f2c",
     "locked": true,
     "schema_version": 2,
     "solution": false
    }
   },
   "source": [
    "To get some insights about the dataset, `pandas` might be used. The `train` part is transformed to `pd.DataFrame` below."
   ]
  },
  {
   "cell_type": "code",
   "execution_count": 3,
   "metadata": {},
   "outputs": [
    {
     "data": {
      "text/html": [
       "<div>\n",
       "<style scoped>\n",
       "    .dataframe tbody tr th:only-of-type {\n",
       "        vertical-align: middle;\n",
       "    }\n",
       "\n",
       "    .dataframe tbody tr th {\n",
       "        vertical-align: top;\n",
       "    }\n",
       "\n",
       "    .dataframe thead th {\n",
       "        text-align: right;\n",
       "    }\n",
       "</style>\n",
       "<table border=\"1\" class=\"dataframe\">\n",
       "  <thead>\n",
       "    <tr style=\"text-align: right;\">\n",
       "      <th></th>\n",
       "      <th>0</th>\n",
       "      <th>1</th>\n",
       "      <th>2</th>\n",
       "      <th>3</th>\n",
       "      <th>4</th>\n",
       "      <th>5</th>\n",
       "      <th>6</th>\n",
       "      <th>7</th>\n",
       "      <th>8</th>\n",
       "      <th>9</th>\n",
       "      <th>10</th>\n",
       "      <th>11</th>\n",
       "      <th>12</th>\n",
       "      <th>13</th>\n",
       "      <th>14</th>\n",
       "      <th>15</th>\n",
       "      <th>16</th>\n",
       "      <th>17</th>\n",
       "      <th>18</th>\n",
       "    </tr>\n",
       "  </thead>\n",
       "  <tbody>\n",
       "    <tr>\n",
       "      <th>0</th>\n",
       "      <td>102</td>\n",
       "      <td>94</td>\n",
       "      <td>42</td>\n",
       "      <td>68</td>\n",
       "      <td>150</td>\n",
       "      <td>64</td>\n",
       "      <td>7</td>\n",
       "      <td>128</td>\n",
       "      <td>52</td>\n",
       "      <td>18</td>\n",
       "      <td>143</td>\n",
       "      <td>154</td>\n",
       "      <td>246</td>\n",
       "      <td>159</td>\n",
       "      <td>69</td>\n",
       "      <td>14</td>\n",
       "      <td>5</td>\n",
       "      <td>192</td>\n",
       "      <td>196</td>\n",
       "    </tr>\n",
       "    <tr>\n",
       "      <th>1</th>\n",
       "      <td>566</td>\n",
       "      <td>108</td>\n",
       "      <td>54</td>\n",
       "      <td>103</td>\n",
       "      <td>212</td>\n",
       "      <td>65</td>\n",
       "      <td>11</td>\n",
       "      <td>208</td>\n",
       "      <td>32</td>\n",
       "      <td>24</td>\n",
       "      <td>162</td>\n",
       "      <td>228</td>\n",
       "      <td>648</td>\n",
       "      <td>240</td>\n",
       "      <td>71</td>\n",
       "      <td>9</td>\n",
       "      <td>0</td>\n",
       "      <td>189</td>\n",
       "      <td>197</td>\n",
       "    </tr>\n",
       "    <tr>\n",
       "      <th>2</th>\n",
       "      <td>655</td>\n",
       "      <td>86</td>\n",
       "      <td>35</td>\n",
       "      <td>44</td>\n",
       "      <td>110</td>\n",
       "      <td>54</td>\n",
       "      <td>2</td>\n",
       "      <td>119</td>\n",
       "      <td>57</td>\n",
       "      <td>17</td>\n",
       "      <td>121</td>\n",
       "      <td>139</td>\n",
       "      <td>208</td>\n",
       "      <td>137</td>\n",
       "      <td>90</td>\n",
       "      <td>6</td>\n",
       "      <td>1</td>\n",
       "      <td>180</td>\n",
       "      <td>183</td>\n",
       "    </tr>\n",
       "    <tr>\n",
       "      <th>3</th>\n",
       "      <td>611</td>\n",
       "      <td>90</td>\n",
       "      <td>49</td>\n",
       "      <td>85</td>\n",
       "      <td>141</td>\n",
       "      <td>57</td>\n",
       "      <td>11</td>\n",
       "      <td>159</td>\n",
       "      <td>43</td>\n",
       "      <td>20</td>\n",
       "      <td>167</td>\n",
       "      <td>173</td>\n",
       "      <td>365</td>\n",
       "      <td>186</td>\n",
       "      <td>75</td>\n",
       "      <td>1</td>\n",
       "      <td>11</td>\n",
       "      <td>182</td>\n",
       "      <td>192</td>\n",
       "    </tr>\n",
       "    <tr>\n",
       "      <th>4</th>\n",
       "      <td>833</td>\n",
       "      <td>92</td>\n",
       "      <td>46</td>\n",
       "      <td>83</td>\n",
       "      <td>154</td>\n",
       "      <td>56</td>\n",
       "      <td>6</td>\n",
       "      <td>160</td>\n",
       "      <td>41</td>\n",
       "      <td>20</td>\n",
       "      <td>148</td>\n",
       "      <td>185</td>\n",
       "      <td>382</td>\n",
       "      <td>184</td>\n",
       "      <td>71</td>\n",
       "      <td>10</td>\n",
       "      <td>5</td>\n",
       "      <td>186</td>\n",
       "      <td>191</td>\n",
       "    </tr>\n",
       "    <tr>\n",
       "      <th>5</th>\n",
       "      <td>114</td>\n",
       "      <td>93</td>\n",
       "      <td>43</td>\n",
       "      <td>85</td>\n",
       "      <td>133</td>\n",
       "      <td>54</td>\n",
       "      <td>10</td>\n",
       "      <td>155</td>\n",
       "      <td>44</td>\n",
       "      <td>19</td>\n",
       "      <td>153</td>\n",
       "      <td>174</td>\n",
       "      <td>351</td>\n",
       "      <td>165</td>\n",
       "      <td>75</td>\n",
       "      <td>12</td>\n",
       "      <td>13</td>\n",
       "      <td>184</td>\n",
       "      <td>196</td>\n",
       "    </tr>\n",
       "    <tr>\n",
       "      <th>6</th>\n",
       "      <td>240</td>\n",
       "      <td>89</td>\n",
       "      <td>36</td>\n",
       "      <td>77</td>\n",
       "      <td>172</td>\n",
       "      <td>62</td>\n",
       "      <td>8</td>\n",
       "      <td>157</td>\n",
       "      <td>42</td>\n",
       "      <td>19</td>\n",
       "      <td>125</td>\n",
       "      <td>174</td>\n",
       "      <td>367</td>\n",
       "      <td>126</td>\n",
       "      <td>63</td>\n",
       "      <td>5</td>\n",
       "      <td>22</td>\n",
       "      <td>198</td>\n",
       "      <td>205</td>\n",
       "    </tr>\n",
       "    <tr>\n",
       "      <th>7</th>\n",
       "      <td>627</td>\n",
       "      <td>88</td>\n",
       "      <td>44</td>\n",
       "      <td>71</td>\n",
       "      <td>165</td>\n",
       "      <td>70</td>\n",
       "      <td>7</td>\n",
       "      <td>144</td>\n",
       "      <td>46</td>\n",
       "      <td>19</td>\n",
       "      <td>141</td>\n",
       "      <td>167</td>\n",
       "      <td>312</td>\n",
       "      <td>172</td>\n",
       "      <td>71</td>\n",
       "      <td>4</td>\n",
       "      <td>4</td>\n",
       "      <td>188</td>\n",
       "      <td>193</td>\n",
       "    </tr>\n",
       "    <tr>\n",
       "      <th>8</th>\n",
       "      <td>306</td>\n",
       "      <td>106</td>\n",
       "      <td>48</td>\n",
       "      <td>107</td>\n",
       "      <td>202</td>\n",
       "      <td>61</td>\n",
       "      <td>10</td>\n",
       "      <td>207</td>\n",
       "      <td>32</td>\n",
       "      <td>24</td>\n",
       "      <td>153</td>\n",
       "      <td>227</td>\n",
       "      <td>635</td>\n",
       "      <td>200</td>\n",
       "      <td>70</td>\n",
       "      <td>5</td>\n",
       "      <td>28</td>\n",
       "      <td>190</td>\n",
       "      <td>203</td>\n",
       "    </tr>\n",
       "    <tr>\n",
       "      <th>9</th>\n",
       "      <td>362</td>\n",
       "      <td>95</td>\n",
       "      <td>47</td>\n",
       "      <td>81</td>\n",
       "      <td>176</td>\n",
       "      <td>59</td>\n",
       "      <td>7</td>\n",
       "      <td>168</td>\n",
       "      <td>39</td>\n",
       "      <td>20</td>\n",
       "      <td>152</td>\n",
       "      <td>196</td>\n",
       "      <td>425</td>\n",
       "      <td>185</td>\n",
       "      <td>67</td>\n",
       "      <td>4</td>\n",
       "      <td>4</td>\n",
       "      <td>191</td>\n",
       "      <td>198</td>\n",
       "    </tr>\n",
       "    <tr>\n",
       "      <th>10</th>\n",
       "      <td>44</td>\n",
       "      <td>119</td>\n",
       "      <td>54</td>\n",
       "      <td>106</td>\n",
       "      <td>220</td>\n",
       "      <td>65</td>\n",
       "      <td>12</td>\n",
       "      <td>213</td>\n",
       "      <td>31</td>\n",
       "      <td>24</td>\n",
       "      <td>167</td>\n",
       "      <td>223</td>\n",
       "      <td>675</td>\n",
       "      <td>232</td>\n",
       "      <td>66</td>\n",
       "      <td>20</td>\n",
       "      <td>1</td>\n",
       "      <td>192</td>\n",
       "      <td>202</td>\n",
       "    </tr>\n",
       "    <tr>\n",
       "      <th>11</th>\n",
       "      <td>647</td>\n",
       "      <td>85</td>\n",
       "      <td>38</td>\n",
       "      <td>75</td>\n",
       "      <td>132</td>\n",
       "      <td>54</td>\n",
       "      <td>7</td>\n",
       "      <td>147</td>\n",
       "      <td>46</td>\n",
       "      <td>19</td>\n",
       "      <td>131</td>\n",
       "      <td>171</td>\n",
       "      <td>318</td>\n",
       "      <td>145</td>\n",
       "      <td>75</td>\n",
       "      <td>7</td>\n",
       "      <td>25</td>\n",
       "      <td>183</td>\n",
       "      <td>188</td>\n",
       "    </tr>\n",
       "    <tr>\n",
       "      <th>12</th>\n",
       "      <td>128</td>\n",
       "      <td>97</td>\n",
       "      <td>45</td>\n",
       "      <td>88</td>\n",
       "      <td>173</td>\n",
       "      <td>67</td>\n",
       "      <td>10</td>\n",
       "      <td>157</td>\n",
       "      <td>43</td>\n",
       "      <td>20</td>\n",
       "      <td>157</td>\n",
       "      <td>173</td>\n",
       "      <td>365</td>\n",
       "      <td>157</td>\n",
       "      <td>67</td>\n",
       "      <td>8</td>\n",
       "      <td>12</td>\n",
       "      <td>192</td>\n",
       "      <td>200</td>\n",
       "    </tr>\n",
       "    <tr>\n",
       "      <th>13</th>\n",
       "      <td>458</td>\n",
       "      <td>103</td>\n",
       "      <td>57</td>\n",
       "      <td>105</td>\n",
       "      <td>221</td>\n",
       "      <td>69</td>\n",
       "      <td>11</td>\n",
       "      <td>218</td>\n",
       "      <td>30</td>\n",
       "      <td>24</td>\n",
       "      <td>173</td>\n",
       "      <td>226</td>\n",
       "      <td>706</td>\n",
       "      <td>250</td>\n",
       "      <td>73</td>\n",
       "      <td>10</td>\n",
       "      <td>2</td>\n",
       "      <td>187</td>\n",
       "      <td>195</td>\n",
       "    </tr>\n",
       "    <tr>\n",
       "      <th>14</th>\n",
       "      <td>688</td>\n",
       "      <td>89</td>\n",
       "      <td>35</td>\n",
       "      <td>52</td>\n",
       "      <td>121</td>\n",
       "      <td>57</td>\n",
       "      <td>4</td>\n",
       "      <td>122</td>\n",
       "      <td>55</td>\n",
       "      <td>17</td>\n",
       "      <td>125</td>\n",
       "      <td>139</td>\n",
       "      <td>220</td>\n",
       "      <td>128</td>\n",
       "      <td>82</td>\n",
       "      <td>5</td>\n",
       "      <td>13</td>\n",
       "      <td>181</td>\n",
       "      <td>184</td>\n",
       "    </tr>\n",
       "  </tbody>\n",
       "</table>\n",
       "</div>"
      ],
      "text/plain": [
       "     0    1   2    3    4   5   6    7   8   9    10   11   12   13  14  15  \\\n",
       "0   102   94  42   68  150  64   7  128  52  18  143  154  246  159  69  14   \n",
       "1   566  108  54  103  212  65  11  208  32  24  162  228  648  240  71   9   \n",
       "2   655   86  35   44  110  54   2  119  57  17  121  139  208  137  90   6   \n",
       "3   611   90  49   85  141  57  11  159  43  20  167  173  365  186  75   1   \n",
       "4   833   92  46   83  154  56   6  160  41  20  148  185  382  184  71  10   \n",
       "5   114   93  43   85  133  54  10  155  44  19  153  174  351  165  75  12   \n",
       "6   240   89  36   77  172  62   8  157  42  19  125  174  367  126  63   5   \n",
       "7   627   88  44   71  165  70   7  144  46  19  141  167  312  172  71   4   \n",
       "8   306  106  48  107  202  61  10  207  32  24  153  227  635  200  70   5   \n",
       "9   362   95  47   81  176  59   7  168  39  20  152  196  425  185  67   4   \n",
       "10   44  119  54  106  220  65  12  213  31  24  167  223  675  232  66  20   \n",
       "11  647   85  38   75  132  54   7  147  46  19  131  171  318  145  75   7   \n",
       "12  128   97  45   88  173  67  10  157  43  20  157  173  365  157  67   8   \n",
       "13  458  103  57  105  221  69  11  218  30  24  173  226  706  250  73  10   \n",
       "14  688   89  35   52  121  57   4  122  55  17  125  139  220  128  82   5   \n",
       "\n",
       "    16   17   18  \n",
       "0    5  192  196  \n",
       "1    0  189  197  \n",
       "2    1  180  183  \n",
       "3   11  182  192  \n",
       "4    5  186  191  \n",
       "5   13  184  196  \n",
       "6   22  198  205  \n",
       "7    4  188  193  \n",
       "8   28  190  203  \n",
       "9    4  191  198  \n",
       "10   1  192  202  \n",
       "11  25  183  188  \n",
       "12  12  192  200  \n",
       "13   2  187  195  \n",
       "14  13  181  184  "
      ]
     },
     "execution_count": 3,
     "metadata": {},
     "output_type": "execute_result"
    }
   ],
   "source": [
    "X_train_pd = pd.DataFrame(X_train)\n",
    "\n",
    "# First 15 rows of our dataset.\n",
    "X_train_pd.head(15)"
   ]
  },
  {
   "cell_type": "markdown",
   "metadata": {
    "nbgrader": {
     "grade": false,
     "grade_id": "cell-98e7d91d77d65fcf",
     "locked": true,
     "schema_version": 2,
     "solution": false
    }
   },
   "source": [
    "Methods `describe` and `info` deliver some useful information."
   ]
  },
  {
   "cell_type": "code",
   "execution_count": 4,
   "metadata": {},
   "outputs": [
    {
     "data": {
      "text/html": [
       "<div>\n",
       "<style scoped>\n",
       "    .dataframe tbody tr th:only-of-type {\n",
       "        vertical-align: middle;\n",
       "    }\n",
       "\n",
       "    .dataframe tbody tr th {\n",
       "        vertical-align: top;\n",
       "    }\n",
       "\n",
       "    .dataframe thead th {\n",
       "        text-align: right;\n",
       "    }\n",
       "</style>\n",
       "<table border=\"1\" class=\"dataframe\">\n",
       "  <thead>\n",
       "    <tr style=\"text-align: right;\">\n",
       "      <th></th>\n",
       "      <th>0</th>\n",
       "      <th>1</th>\n",
       "      <th>2</th>\n",
       "      <th>3</th>\n",
       "      <th>4</th>\n",
       "      <th>5</th>\n",
       "      <th>6</th>\n",
       "      <th>7</th>\n",
       "      <th>8</th>\n",
       "      <th>9</th>\n",
       "      <th>10</th>\n",
       "      <th>11</th>\n",
       "      <th>12</th>\n",
       "      <th>13</th>\n",
       "      <th>14</th>\n",
       "      <th>15</th>\n",
       "      <th>16</th>\n",
       "      <th>17</th>\n",
       "      <th>18</th>\n",
       "    </tr>\n",
       "  </thead>\n",
       "  <tbody>\n",
       "    <tr>\n",
       "      <th>count</th>\n",
       "      <td>549.000000</td>\n",
       "      <td>549.000000</td>\n",
       "      <td>549.000000</td>\n",
       "      <td>549.000000</td>\n",
       "      <td>549.000000</td>\n",
       "      <td>549.000000</td>\n",
       "      <td>549.000000</td>\n",
       "      <td>549.000000</td>\n",
       "      <td>549.000000</td>\n",
       "      <td>549.000000</td>\n",
       "      <td>549.000000</td>\n",
       "      <td>549.000000</td>\n",
       "      <td>549.000000</td>\n",
       "      <td>549.000000</td>\n",
       "      <td>549.000000</td>\n",
       "      <td>549.000000</td>\n",
       "      <td>549.000000</td>\n",
       "      <td>549.000000</td>\n",
       "      <td>549.000000</td>\n",
       "    </tr>\n",
       "    <tr>\n",
       "      <th>mean</th>\n",
       "      <td>421.486339</td>\n",
       "      <td>93.489982</td>\n",
       "      <td>44.644809</td>\n",
       "      <td>81.604736</td>\n",
       "      <td>168.151184</td>\n",
       "      <td>61.615665</td>\n",
       "      <td>8.378871</td>\n",
       "      <td>167.918033</td>\n",
       "      <td>41.202186</td>\n",
       "      <td>20.517304</td>\n",
       "      <td>147.475410</td>\n",
       "      <td>187.715847</td>\n",
       "      <td>435.821494</td>\n",
       "      <td>173.442623</td>\n",
       "      <td>72.406193</td>\n",
       "      <td>6.591985</td>\n",
       "      <td>12.854281</td>\n",
       "      <td>189.009107</td>\n",
       "      <td>195.617486</td>\n",
       "    </tr>\n",
       "    <tr>\n",
       "      <th>std</th>\n",
       "      <td>245.361818</td>\n",
       "      <td>8.175448</td>\n",
       "      <td>6.237943</td>\n",
       "      <td>15.882393</td>\n",
       "      <td>33.236063</td>\n",
       "      <td>7.224995</td>\n",
       "      <td>4.061838</td>\n",
       "      <td>33.927072</td>\n",
       "      <td>7.975619</td>\n",
       "      <td>2.652325</td>\n",
       "      <td>14.733578</td>\n",
       "      <td>31.989553</td>\n",
       "      <td>180.166653</td>\n",
       "      <td>32.617878</td>\n",
       "      <td>7.340322</td>\n",
       "      <td>4.993902</td>\n",
       "      <td>8.961428</td>\n",
       "      <td>6.195854</td>\n",
       "      <td>7.437535</td>\n",
       "    </tr>\n",
       "    <tr>\n",
       "      <th>min</th>\n",
       "      <td>0.000000</td>\n",
       "      <td>77.000000</td>\n",
       "      <td>33.000000</td>\n",
       "      <td>40.000000</td>\n",
       "      <td>104.000000</td>\n",
       "      <td>48.000000</td>\n",
       "      <td>2.000000</td>\n",
       "      <td>112.000000</td>\n",
       "      <td>26.000000</td>\n",
       "      <td>17.000000</td>\n",
       "      <td>118.000000</td>\n",
       "      <td>130.000000</td>\n",
       "      <td>184.000000</td>\n",
       "      <td>109.000000</td>\n",
       "      <td>59.000000</td>\n",
       "      <td>0.000000</td>\n",
       "      <td>0.000000</td>\n",
       "      <td>176.000000</td>\n",
       "      <td>181.000000</td>\n",
       "    </tr>\n",
       "    <tr>\n",
       "      <th>25%</th>\n",
       "      <td>213.000000</td>\n",
       "      <td>87.000000</td>\n",
       "      <td>40.000000</td>\n",
       "      <td>70.000000</td>\n",
       "      <td>140.000000</td>\n",
       "      <td>57.000000</td>\n",
       "      <td>6.000000</td>\n",
       "      <td>144.000000</td>\n",
       "      <td>33.000000</td>\n",
       "      <td>19.000000</td>\n",
       "      <td>136.000000</td>\n",
       "      <td>166.000000</td>\n",
       "      <td>312.000000</td>\n",
       "      <td>148.000000</td>\n",
       "      <td>67.000000</td>\n",
       "      <td>2.000000</td>\n",
       "      <td>6.000000</td>\n",
       "      <td>184.000000</td>\n",
       "      <td>190.000000</td>\n",
       "    </tr>\n",
       "    <tr>\n",
       "      <th>50%</th>\n",
       "      <td>424.000000</td>\n",
       "      <td>92.000000</td>\n",
       "      <td>44.000000</td>\n",
       "      <td>78.000000</td>\n",
       "      <td>165.000000</td>\n",
       "      <td>61.000000</td>\n",
       "      <td>8.000000</td>\n",
       "      <td>156.000000</td>\n",
       "      <td>43.000000</td>\n",
       "      <td>19.000000</td>\n",
       "      <td>145.000000</td>\n",
       "      <td>178.000000</td>\n",
       "      <td>361.000000</td>\n",
       "      <td>173.000000</td>\n",
       "      <td>72.000000</td>\n",
       "      <td>6.000000</td>\n",
       "      <td>11.000000</td>\n",
       "      <td>189.000000</td>\n",
       "      <td>197.000000</td>\n",
       "    </tr>\n",
       "    <tr>\n",
       "      <th>75%</th>\n",
       "      <td>630.000000</td>\n",
       "      <td>99.000000</td>\n",
       "      <td>49.000000</td>\n",
       "      <td>96.000000</td>\n",
       "      <td>195.000000</td>\n",
       "      <td>65.000000</td>\n",
       "      <td>10.000000</td>\n",
       "      <td>197.000000</td>\n",
       "      <td>46.000000</td>\n",
       "      <td>23.000000</td>\n",
       "      <td>158.000000</td>\n",
       "      <td>216.000000</td>\n",
       "      <td>583.000000</td>\n",
       "      <td>198.000000</td>\n",
       "      <td>75.000000</td>\n",
       "      <td>10.000000</td>\n",
       "      <td>19.000000</td>\n",
       "      <td>193.000000</td>\n",
       "      <td>201.000000</td>\n",
       "    </tr>\n",
       "    <tr>\n",
       "      <th>max</th>\n",
       "      <td>845.000000</td>\n",
       "      <td>119.000000</td>\n",
       "      <td>59.000000</td>\n",
       "      <td>110.000000</td>\n",
       "      <td>333.000000</td>\n",
       "      <td>138.000000</td>\n",
       "      <td>52.000000</td>\n",
       "      <td>265.000000</td>\n",
       "      <td>61.000000</td>\n",
       "      <td>29.000000</td>\n",
       "      <td>188.000000</td>\n",
       "      <td>320.000000</td>\n",
       "      <td>1018.000000</td>\n",
       "      <td>268.000000</td>\n",
       "      <td>135.000000</td>\n",
       "      <td>22.000000</td>\n",
       "      <td>41.000000</td>\n",
       "      <td>206.000000</td>\n",
       "      <td>211.000000</td>\n",
       "    </tr>\n",
       "  </tbody>\n",
       "</table>\n",
       "</div>"
      ],
      "text/plain": [
       "               0           1           2           3           4           5   \\\n",
       "count  549.000000  549.000000  549.000000  549.000000  549.000000  549.000000   \n",
       "mean   421.486339   93.489982   44.644809   81.604736  168.151184   61.615665   \n",
       "std    245.361818    8.175448    6.237943   15.882393   33.236063    7.224995   \n",
       "min      0.000000   77.000000   33.000000   40.000000  104.000000   48.000000   \n",
       "25%    213.000000   87.000000   40.000000   70.000000  140.000000   57.000000   \n",
       "50%    424.000000   92.000000   44.000000   78.000000  165.000000   61.000000   \n",
       "75%    630.000000   99.000000   49.000000   96.000000  195.000000   65.000000   \n",
       "max    845.000000  119.000000   59.000000  110.000000  333.000000  138.000000   \n",
       "\n",
       "               6           7           8           9           10          11  \\\n",
       "count  549.000000  549.000000  549.000000  549.000000  549.000000  549.000000   \n",
       "mean     8.378871  167.918033   41.202186   20.517304  147.475410  187.715847   \n",
       "std      4.061838   33.927072    7.975619    2.652325   14.733578   31.989553   \n",
       "min      2.000000  112.000000   26.000000   17.000000  118.000000  130.000000   \n",
       "25%      6.000000  144.000000   33.000000   19.000000  136.000000  166.000000   \n",
       "50%      8.000000  156.000000   43.000000   19.000000  145.000000  178.000000   \n",
       "75%     10.000000  197.000000   46.000000   23.000000  158.000000  216.000000   \n",
       "max     52.000000  265.000000   61.000000   29.000000  188.000000  320.000000   \n",
       "\n",
       "                12          13          14          15          16  \\\n",
       "count   549.000000  549.000000  549.000000  549.000000  549.000000   \n",
       "mean    435.821494  173.442623   72.406193    6.591985   12.854281   \n",
       "std     180.166653   32.617878    7.340322    4.993902    8.961428   \n",
       "min     184.000000  109.000000   59.000000    0.000000    0.000000   \n",
       "25%     312.000000  148.000000   67.000000    2.000000    6.000000   \n",
       "50%     361.000000  173.000000   72.000000    6.000000   11.000000   \n",
       "75%     583.000000  198.000000   75.000000   10.000000   19.000000   \n",
       "max    1018.000000  268.000000  135.000000   22.000000   41.000000   \n",
       "\n",
       "               17          18  \n",
       "count  549.000000  549.000000  \n",
       "mean   189.009107  195.617486  \n",
       "std      6.195854    7.437535  \n",
       "min    176.000000  181.000000  \n",
       "25%    184.000000  190.000000  \n",
       "50%    189.000000  197.000000  \n",
       "75%    193.000000  201.000000  \n",
       "max    206.000000  211.000000  "
      ]
     },
     "execution_count": 4,
     "metadata": {},
     "output_type": "execute_result"
    }
   ],
   "source": [
    "X_train_pd.describe()"
   ]
  },
  {
   "cell_type": "code",
   "execution_count": 5,
   "metadata": {},
   "outputs": [
    {
     "name": "stdout",
     "output_type": "stream",
     "text": [
      "<class 'pandas.core.frame.DataFrame'>\n",
      "RangeIndex: 549 entries, 0 to 548\n",
      "Data columns (total 19 columns):\n",
      " #   Column  Non-Null Count  Dtype\n",
      "---  ------  --------------  -----\n",
      " 0   0       549 non-null    int32\n",
      " 1   1       549 non-null    int32\n",
      " 2   2       549 non-null    int32\n",
      " 3   3       549 non-null    int32\n",
      " 4   4       549 non-null    int32\n",
      " 5   5       549 non-null    int32\n",
      " 6   6       549 non-null    int32\n",
      " 7   7       549 non-null    int32\n",
      " 8   8       549 non-null    int32\n",
      " 9   9       549 non-null    int32\n",
      " 10  10      549 non-null    int32\n",
      " 11  11      549 non-null    int32\n",
      " 12  12      549 non-null    int32\n",
      " 13  13      549 non-null    int32\n",
      " 14  14      549 non-null    int32\n",
      " 15  15      549 non-null    int32\n",
      " 16  16      549 non-null    int32\n",
      " 17  17      549 non-null    int32\n",
      " 18  18      549 non-null    int32\n",
      "dtypes: int32(19)\n",
      "memory usage: 40.9 KB\n"
     ]
    }
   ],
   "source": [
    "X_train_pd.info()"
   ]
  },
  {
   "cell_type": "markdown",
   "metadata": {
    "nbgrader": {
     "grade": false,
     "grade_id": "cell-be844269be69c387",
     "locked": true,
     "schema_version": 2,
     "solution": false
    }
   },
   "source": [
    "### 2. Machine Learning pipeline\n",
    "Here you are supposed to perform the desired transformations. Please, explain your results briefly after each task."
   ]
  },
  {
   "cell_type": "markdown",
   "metadata": {},
   "source": [
    "#### 2.0. Data preprocessing\n",
    "* Make some transformations of the dataset (if necessary). Briefly explain the transformations"
   ]
  },
  {
   "cell_type": "code",
   "execution_count": 6,
   "metadata": {
    "nbgrader": {
     "grade": true,
     "grade_id": "cell-a1514aa189a49fca",
     "locked": false,
     "points": 15,
     "schema_version": 2,
     "solution": true
    }
   },
   "outputs": [],
   "source": [
    "### YOUR CODE HERE\n",
    "from sklearn.preprocessing import StandardScaler\n",
    "from sklearn.preprocessing import LabelEncoder"
   ]
  },
  {
   "cell_type": "markdown",
   "metadata": {},
   "source": [
    "#### 2.1. Basic logistic regression\n",
    "* Find optimal hyperparameters for logistic regression with cross-validation on the `train` data (small grid/random search is enough, no need to find the *best* parameters).\n",
    "\n",
    "* Estimate the model quality with `f1` and `accuracy` scores.\n",
    "* Plot a ROC-curve for the trained model. For the multiclass case you might use `scikitplot` library (e.g. `scikitplot.metrics.plot_roc(test_labels, predicted_proba)`).\n",
    "\n",
    "*Note: please, use the following hyperparameters for logistic regression: `multi_class='multinomial'`, `solver='saga'` `tol=1e-3` and ` max_iter=500`.*"
   ]
  },
  {
   "cell_type": "code",
   "execution_count": 7,
   "metadata": {
    "nbgrader": {
     "grade": true,
     "grade_id": "cell-1dd5ad5d0845cbbb",
     "locked": false,
     "points": 5,
     "schema_version": 2,
     "solution": true
    }
   },
   "outputs": [
    {
     "data": {
      "text/html": [
       "<div>\n",
       "<style scoped>\n",
       "    .dataframe tbody tr th:only-of-type {\n",
       "        vertical-align: middle;\n",
       "    }\n",
       "\n",
       "    .dataframe tbody tr th {\n",
       "        vertical-align: top;\n",
       "    }\n",
       "\n",
       "    .dataframe thead th {\n",
       "        text-align: right;\n",
       "    }\n",
       "</style>\n",
       "<table border=\"1\" class=\"dataframe\">\n",
       "  <thead>\n",
       "    <tr style=\"text-align: right;\">\n",
       "      <th></th>\n",
       "      <th>0</th>\n",
       "      <th>1</th>\n",
       "      <th>2</th>\n",
       "      <th>3</th>\n",
       "      <th>4</th>\n",
       "      <th>5</th>\n",
       "      <th>6</th>\n",
       "      <th>7</th>\n",
       "      <th>8</th>\n",
       "      <th>9</th>\n",
       "      <th>10</th>\n",
       "      <th>11</th>\n",
       "      <th>12</th>\n",
       "      <th>13</th>\n",
       "      <th>14</th>\n",
       "      <th>15</th>\n",
       "      <th>16</th>\n",
       "      <th>17</th>\n",
       "      <th>18</th>\n",
       "    </tr>\n",
       "  </thead>\n",
       "  <tbody>\n",
       "    <tr>\n",
       "      <th>0</th>\n",
       "      <td>-1.303290</td>\n",
       "      <td>0.062441</td>\n",
       "      <td>-0.424374</td>\n",
       "      <td>-0.857374</td>\n",
       "      <td>-0.546627</td>\n",
       "      <td>0.330313</td>\n",
       "      <td>-0.339779</td>\n",
       "      <td>-1.177657</td>\n",
       "      <td>1.355087</td>\n",
       "      <td>-0.949959</td>\n",
       "      <td>-0.304033</td>\n",
       "      <td>-1.054926</td>\n",
       "      <td>-1.054549</td>\n",
       "      <td>-0.443186</td>\n",
       "      <td>-0.464462</td>\n",
       "      <td>1.484765</td>\n",
       "      <td>-0.877253</td>\n",
       "      <td>0.483165</td>\n",
       "      <td>0.051477</td>\n",
       "    </tr>\n",
       "    <tr>\n",
       "      <th>1</th>\n",
       "      <td>0.589519</td>\n",
       "      <td>1.776447</td>\n",
       "      <td>1.501092</td>\n",
       "      <td>1.348334</td>\n",
       "      <td>1.320518</td>\n",
       "      <td>0.468848</td>\n",
       "      <td>0.645895</td>\n",
       "      <td>1.182493</td>\n",
       "      <td>-1.154842</td>\n",
       "      <td>1.314270</td>\n",
       "      <td>0.986715</td>\n",
       "      <td>1.260439</td>\n",
       "      <td>1.178753</td>\n",
       "      <td>2.042379</td>\n",
       "      <td>-0.191746</td>\n",
       "      <td>0.482631</td>\n",
       "      <td>-1.435709</td>\n",
       "      <td>-0.001471</td>\n",
       "      <td>0.186053</td>\n",
       "    </tr>\n",
       "    <tr>\n",
       "      <th>2</th>\n",
       "      <td>0.952579</td>\n",
       "      <td>-0.916991</td>\n",
       "      <td>-1.547562</td>\n",
       "      <td>-2.369859</td>\n",
       "      <td>-1.751237</td>\n",
       "      <td>-1.055033</td>\n",
       "      <td>-1.571872</td>\n",
       "      <td>-1.443173</td>\n",
       "      <td>1.982570</td>\n",
       "      <td>-1.327331</td>\n",
       "      <td>-1.798582</td>\n",
       "      <td>-1.524256</td>\n",
       "      <td>-1.265657</td>\n",
       "      <td>-1.118278</td>\n",
       "      <td>2.399057</td>\n",
       "      <td>-0.118650</td>\n",
       "      <td>-1.324018</td>\n",
       "      <td>-1.455380</td>\n",
       "      <td>-1.698008</td>\n",
       "    </tr>\n",
       "    <tr>\n",
       "      <th>3</th>\n",
       "      <td>0.773089</td>\n",
       "      <td>-0.427275</td>\n",
       "      <td>0.698814</td>\n",
       "      <td>0.213970</td>\n",
       "      <td>-0.817664</td>\n",
       "      <td>-0.639429</td>\n",
       "      <td>0.645895</td>\n",
       "      <td>-0.263099</td>\n",
       "      <td>0.225619</td>\n",
       "      <td>-0.195216</td>\n",
       "      <td>1.326385</td>\n",
       "      <td>-0.460440</td>\n",
       "      <td>-0.393447</td>\n",
       "      <td>0.385336</td>\n",
       "      <td>0.353686</td>\n",
       "      <td>-1.120784</td>\n",
       "      <td>-0.207107</td>\n",
       "      <td>-1.132289</td>\n",
       "      <td>-0.486826</td>\n",
       "    </tr>\n",
       "    <tr>\n",
       "      <th>4</th>\n",
       "      <td>1.678700</td>\n",
       "      <td>-0.182417</td>\n",
       "      <td>0.217448</td>\n",
       "      <td>0.087930</td>\n",
       "      <td>-0.426166</td>\n",
       "      <td>-0.777964</td>\n",
       "      <td>-0.586198</td>\n",
       "      <td>-0.233597</td>\n",
       "      <td>-0.025374</td>\n",
       "      <td>-0.195216</td>\n",
       "      <td>0.035638</td>\n",
       "      <td>-0.084975</td>\n",
       "      <td>-0.299004</td>\n",
       "      <td>0.323964</td>\n",
       "      <td>-0.191746</td>\n",
       "      <td>0.683058</td>\n",
       "      <td>-0.877253</td>\n",
       "      <td>-0.486108</td>\n",
       "      <td>-0.621402</td>\n",
       "    </tr>\n",
       "  </tbody>\n",
       "</table>\n",
       "</div>"
      ],
      "text/plain": [
       "         0         1         2         3         4         5         6   \\\n",
       "0 -1.303290  0.062441 -0.424374 -0.857374 -0.546627  0.330313 -0.339779   \n",
       "1  0.589519  1.776447  1.501092  1.348334  1.320518  0.468848  0.645895   \n",
       "2  0.952579 -0.916991 -1.547562 -2.369859 -1.751237 -1.055033 -1.571872   \n",
       "3  0.773089 -0.427275  0.698814  0.213970 -0.817664 -0.639429  0.645895   \n",
       "4  1.678700 -0.182417  0.217448  0.087930 -0.426166 -0.777964 -0.586198   \n",
       "\n",
       "         7         8         9         10        11        12        13  \\\n",
       "0 -1.177657  1.355087 -0.949959 -0.304033 -1.054926 -1.054549 -0.443186   \n",
       "1  1.182493 -1.154842  1.314270  0.986715  1.260439  1.178753  2.042379   \n",
       "2 -1.443173  1.982570 -1.327331 -1.798582 -1.524256 -1.265657 -1.118278   \n",
       "3 -0.263099  0.225619 -0.195216  1.326385 -0.460440 -0.393447  0.385336   \n",
       "4 -0.233597 -0.025374 -0.195216  0.035638 -0.084975 -0.299004  0.323964   \n",
       "\n",
       "         14        15        16        17        18  \n",
       "0 -0.464462  1.484765 -0.877253  0.483165  0.051477  \n",
       "1 -0.191746  0.482631 -1.435709 -0.001471  0.186053  \n",
       "2  2.399057 -0.118650 -1.324018 -1.455380 -1.698008  \n",
       "3  0.353686 -1.120784 -0.207107 -1.132289 -0.486826  \n",
       "4 -0.191746  0.683058 -0.877253 -0.486108 -0.621402  "
      ]
     },
     "execution_count": 7,
     "metadata": {},
     "output_type": "execute_result"
    }
   ],
   "source": [
    "### YOUR CODE HERE\n",
    "## нормируем\n",
    "sc = StandardScaler().fit(X_train, y_train)\n",
    "X_train = sc.transform(X_train)\n",
    "X_test = sc.transform(X_test)\n",
    "pd.DataFrame(X_train).head()"
   ]
  },
  {
   "cell_type": "code",
   "execution_count": 8,
   "metadata": {},
   "outputs": [],
   "source": [
    "## кодируем\n",
    "le = LabelEncoder().fit(y_train)\n",
    "y_train = le.transform(y_train)\n",
    "y_test = le.transform(y_test)"
   ]
  },
  {
   "cell_type": "code",
   "execution_count": 9,
   "metadata": {},
   "outputs": [
    {
     "name": "stdout",
     "output_type": "stream",
     "text": [
      "Requirement already satisfied: scikit-plot in c:\\users\\v.desktop-lbgobse\\anaconda3\\lib\\site-packages (0.3.7)\n",
      "Requirement already satisfied: scipy>=0.9 in c:\\users\\v.desktop-lbgobse\\anaconda3\\lib\\site-packages (from scikit-plot) (1.11.3)\n",
      "Requirement already satisfied: joblib>=0.10 in c:\\users\\v.desktop-lbgobse\\anaconda3\\lib\\site-packages (from scikit-plot) (1.1.0)\n",
      "Requirement already satisfied: scikit-learn>=0.18 in c:\\users\\v.desktop-lbgobse\\anaconda3\\lib\\site-packages (from scikit-plot) (0.24.2)\n",
      "Requirement already satisfied: matplotlib>=1.4.0 in c:\\users\\v.desktop-lbgobse\\anaconda3\\lib\\site-packages (from scikit-plot) (3.4.3)\n",
      "Requirement already satisfied: python-dateutil>=2.7 in c:\\users\\v.desktop-lbgobse\\anaconda3\\lib\\site-packages (from matplotlib>=1.4.0->scikit-plot) (2.8.2)\n",
      "Requirement already satisfied: numpy>=1.16 in c:\\users\\v.desktop-lbgobse\\anaconda3\\lib\\site-packages (from matplotlib>=1.4.0->scikit-plot) (1.22.4)\n",
      "Requirement already satisfied: pillow>=6.2.0 in c:\\users\\v.desktop-lbgobse\\anaconda3\\lib\\site-packages (from matplotlib>=1.4.0->scikit-plot) (8.4.0)\n",
      "Requirement already satisfied: kiwisolver>=1.0.1 in c:\\users\\v.desktop-lbgobse\\anaconda3\\lib\\site-packages (from matplotlib>=1.4.0->scikit-plot) (1.3.1)\n",
      "Requirement already satisfied: pyparsing>=2.2.1 in c:\\users\\v.desktop-lbgobse\\anaconda3\\lib\\site-packages (from matplotlib>=1.4.0->scikit-plot) (3.0.4)\n",
      "Requirement already satisfied: cycler>=0.10 in c:\\users\\v.desktop-lbgobse\\anaconda3\\lib\\site-packages (from matplotlib>=1.4.0->scikit-plot) (0.10.0)\n",
      "Requirement already satisfied: six in c:\\users\\v.desktop-lbgobse\\anaconda3\\lib\\site-packages (from cycler>=0.10->matplotlib>=1.4.0->scikit-plot) (1.16.0)\n",
      "Requirement already satisfied: threadpoolctl>=2.0.0 in c:\\users\\v.desktop-lbgobse\\anaconda3\\lib\\site-packages (from scikit-learn>=0.18->scikit-plot) (2.2.0)\n"
     ]
    }
   ],
   "source": [
    "# You might use this command to install scikit-plot. \n",
    "# Warning, if you a running locally, don't call pip from within jupyter, call it from terminal in the corresponding \n",
    "# virtual environment instead\n",
    "\n",
    "! pip install scikit-plot"
   ]
  },
  {
   "cell_type": "code",
   "execution_count": 10,
   "metadata": {},
   "outputs": [
    {
     "name": "stdout",
     "output_type": "stream",
     "text": [
      "Fitting 5 folds for each of 48 candidates, totalling 240 fits\n",
      "best score is 0.7884274441483908\n",
      "best params are {'C': 10, 'fit_intercept': True, 'penalty': 'l1', 'random_state': 42}\n"
     ]
    }
   ],
   "source": [
    "### YOUR CODE HERE\n",
    "# выбор оптимальных гиперпараметров\n",
    "\n",
    "from sklearn.model_selection import GridSearchCV\n",
    "from sklearn.linear_model import LogisticRegression\n",
    "\n",
    "logreg_cv_f1 = GridSearchCV( LogisticRegression(\n",
    "        multi_class='multinomial',\n",
    "        solver='saga',\n",
    "        max_iter=500,\n",
    "        tol=1e-3\n",
    "    ),\n",
    "    cv=5,\n",
    "    param_grid={\n",
    "        'penalty': ['l1', 'l2', 'none'],\n",
    "        'C': [0.01, 0.05, 0.1, 0.5, 1, 2, 5, 10],\n",
    "        'fit_intercept': [True, False],\n",
    "        'random_state': [42]\n",
    "    },\n",
    "    n_jobs=-1,\n",
    "    scoring='f1_macro',\n",
    "    verbose=1\n",
    ").fit(X_train, y_train)\n",
    "\n",
    "model = logreg_cv_f1.best_estimator_\n",
    "print('best score is', logreg_cv_f1.best_score_)\n",
    "print('best params are', logreg_cv_f1.best_params_)"
   ]
  },
  {
   "cell_type": "code",
   "execution_count": 11,
   "metadata": {},
   "outputs": [
    {
     "name": "stdout",
     "output_type": "stream",
     "text": [
      "Train\n",
      "f1 : 0.8390472195120078\n",
      "accuracy score : 0.8397085610200364\n",
      "Test\n",
      "f1 : 0.7760652597530087\n",
      "accuracy score : 0.7744107744107744\n"
     ]
    }
   ],
   "source": [
    "# оценка производительности модели\n",
    "\n",
    "from sklearn.metrics import accuracy_score, f1_score\n",
    "\n",
    "print('Train')\n",
    "print('f1 :', f1_score(y_train, model.predict(X_train), average='weighted'))\n",
    "print('accuracy score :', accuracy_score(y_train, model.predict(X_train)))\n",
    "\n",
    "print('Test')\n",
    "print('f1 :', f1_score(y_test, model.predict(X_test), average='weighted'))\n",
    "print('accuracy score :', accuracy_score(y_test, model.predict(X_test)))"
   ]
  },
  {
   "cell_type": "code",
   "execution_count": 12,
   "metadata": {},
   "outputs": [
    {
     "data": {
      "text/plain": [
       "<AxesSubplot:title={'center':'ROC Curves'}, xlabel='False Positive Rate', ylabel='True Positive Rate'>"
      ]
     },
     "execution_count": 12,
     "metadata": {},
     "output_type": "execute_result"
    },
    {
     "data": {
      "image/png": "[encoded data removed]",
      "text/plain": [
       "<Figure size 432x288 with 1 Axes>"
      ]
     },
     "metadata": {
      "needs_background": "light"
     },
     "output_type": "display_data"
    }
   ],
   "source": [
    "# построение ROC-кривой\n",
    "from scikitplot.metrics import plot_roc\n",
    "\n",
    "plot_roc(y_train, model.predict_proba(X_train))"
   ]
  },
  {
   "cell_type": "markdown",
   "metadata": {},
   "source": [
    "#### 2.2. PCA: explained variance plot\n",
    "* Apply the PCA to the train part of the data. Build the explaided variance plot. "
   ]
  },
  {
   "cell_type": "code",
   "execution_count": 13,
   "metadata": {
    "nbgrader": {
     "grade": true,
     "grade_id": "cell-c6c614740bce090e",
     "locked": false,
     "points": 10,
     "schema_version": 2,
     "solution": true
    }
   },
   "outputs": [],
   "source": [
    "### YOUR CODE HERE\n",
    "\n",
    "from sklearn.decomposition import PCA\n",
    "import matplotlib.pyplot as plt\n",
    "\n",
    "pca = PCA().fit(X_train)"
   ]
  },
  {
   "cell_type": "code",
   "execution_count": 14,
   "metadata": {},
   "outputs": [
    {
     "name": "stdout",
     "output_type": "stream",
     "text": [
      "19 главных компонент\n",
      "дисперсия практически не меняется после 9 главных компонентов\n",
      "отношение дисперсии для 9 главных компонентов составляет 0.9849\n"
     ]
    },
    {
     "data": {
      "image/png": "[encoded data removed]",
      "text/plain": [
       "<Figure size 432x288 with 1 Axes>"
      ]
     },
     "metadata": {
      "needs_background": "light"
     },
     "output_type": "display_data"
    }
   ],
   "source": [
    "variance_ratios = pca.explained_variance_ratio_.cumsum()\n",
    "originality_threshold = 0.01  \n",
    "n_components_required = 1\n",
    "\n",
    "while n_components_required < pca.n_components_ and (variance_ratios[n_components_required] - variance_ratios[n_components_required - 1]) / variance_ratios[n_components_required - 1] > originality_threshold:\n",
    "    n_components_required += 1\n",
    "\n",
    "print(pca.n_components_, 'главных компонент')\n",
    "print(\"дисперсия практически не меняется после\", n_components_required, 'главных компонентов')\n",
    "print('отношение дисперсии для', n_components_required, 'главных компонентов составляет', np.round(variance_ratios[n_components_required], decimals=4))\n",
    "\n",
    "plt.title('Explained variance plot')\n",
    "plt.xlabel('n_components')\n",
    "plt.ylabel('Отношение дисперсии')\n",
    "\n",
    "plt.xticks(ticks=range(0, pca.n_components_ + 1, 3))\n",
    "plt.yticks(ticks=np.linspace(0, 1, 20))\n",
    "plt.ylim(0.4, 1.1)\n",
    "plt.grid(which='major', axis='both', color='grey', linestyle='-', linewidth=0.5)\n",
    "\n",
    "plt.plot(range(1, pca.n_components_ + 1), variance_ratios, 'g');\n",
    "plt.scatter(range(1, pca.n_components_ + 1), variance_ratios, linewidths=2);\n",
    "plt.vlines(n_components_required, ymin=0, ymax=1, label=f'необходимо компонентов = {n_components_required}')\n",
    "\n",
    "plt.legend(loc='lower right');"
   ]
  },
  {
   "cell_type": "markdown",
   "metadata": {
    "nbgrader": {
     "grade": false,
     "grade_id": "cell-0c1fe666f52fe53c",
     "locked": true,
     "schema_version": 2,
     "solution": false
    }
   },
   "source": [
    "#### 2.3. PCA trasformation\n",
    "* Select the appropriate number of components. Briefly explain your choice. Should you normalize the data?\n",
    "\n",
    "*Use `fit` and `transform` methods to transform the `train` and `test` parts.*"
   ]
  },
  {
   "cell_type": "code",
   "execution_count": 15,
   "metadata": {
    "nbgrader": {
     "grade": true,
     "grade_id": "cell-96ab18d96473ef71",
     "locked": false,
     "points": 5,
     "schema_version": 2,
     "solution": true
    }
   },
   "outputs": [],
   "source": [
    "### YOUR CODE HERE\n",
    "\n",
    "# Данные уже нормализованы.\n",
    "# Увеличение количества компонентов не приводит к существенному увеличению дисперсии, при этом, как мне кажется, уменьшение количества будет ощутимо."
   ]
  },
  {
   "cell_type": "code",
   "execution_count": 16,
   "metadata": {},
   "outputs": [],
   "source": [
    "pca = PCA(n_components=n_components_required).fit(X_train) # --> log reg accuracy, f1 ~ 0.72\n",
    "X_train_pca = pca.transform(X_train)\n",
    "X_test_pca = pca.transform(X_test)\n"
   ]
  },
  {
   "cell_type": "markdown",
   "metadata": {},
   "source": [
    "**Note: From this point `sklearn` [Pipeline](https://scikit-learn.org/stable/modules/compose.html) might be useful to perform transformations on the data. Refer to the [docs](https://scikit-learn.org/stable/modules/generated/sklearn.pipeline.Pipeline.html) for more information.**"
   ]
  },
  {
   "cell_type": "markdown",
   "metadata": {
    "nbgrader": {
     "grade": false,
     "grade_id": "cell-d28b58a35c94e988",
     "locked": true,
     "schema_version": 2,
     "solution": false
    }
   },
   "source": [
    "#### 2.4. Logistic regression on PCA-preprocessed data.\n",
    "* Find optimal hyperparameters for logistic regression with cross-validation on the transformed by PCA `train` data.\n",
    "\n",
    "* Estimate the model quality with `f1` and `accuracy` scores.\n",
    "* Plot a ROC-curve for the trained model. For the multiclass case you might use `scikitplot` library (e.g. `scikitplot.metrics.plot_roc(test_labels, predicted_proba)`).\n",
    "\n",
    "*Note: please, use the following hyperparameters for logistic regression: `multi_class='multinomial'`, `solver='saga'` and `tol=1e-3`*"
   ]
  },
  {
   "cell_type": "code",
   "execution_count": 17,
   "metadata": {
    "nbgrader": {
     "grade": true,
     "grade_id": "cell-12d53ea45258fa82",
     "locked": false,
     "points": 5,
     "schema_version": 2,
     "solution": true
    }
   },
   "outputs": [
    {
     "name": "stdout",
     "output_type": "stream",
     "text": [
      "Fitting 3 folds for each of 160 candidates, totalling 480 fits\n",
      "best score is : 0.6647596964487744\n",
      "best params are : {'C': 1, 'fit_intercept': True, 'max_iter': 50, 'penalty': 'l1', 'random_state': 42}\n"
     ]
    },
    {
     "name": "stderr",
     "output_type": "stream",
     "text": [
      "C:\\Users\\V.DESKTOP-LBGOBSE\\anaconda3\\lib\\site-packages\\sklearn\\linear_model\\_sag.py:328: ConvergenceWarning: The max_iter was reached which means the coef_ did not converge\n",
      "  warnings.warn(\"The max_iter was reached which means \"\n"
     ]
    }
   ],
   "source": [
    "### YOUR CODE HERE\n",
    "# выбор оптимальных гиперпараметров\n",
    "log_reg_cv_f1_pca_features = GridSearchCV(\n",
    "    LogisticRegression(\n",
    "        multi_class='multinomial',\n",
    "        solver='saga', tol=1e-3\n",
    "    ),\n",
    "    cv=3,\n",
    "    param_grid={\n",
    "        'penalty': ['l1', 'l2'],\n",
    "        'C': [1e-2, 1e-1, 5e-1, 1, 2, 5, 10, 100],\n",
    "        'random_state': [42],\n",
    "        'fit_intercept': [True, False],\n",
    "        'max_iter': [50, 100, 200, 400, 500]\n",
    "    },\n",
    "    n_jobs=-1,\n",
    "    scoring='f1_weighted',\n",
    "    verbose=1\n",
    ").fit(X_train_pca, y_train)\n",
    "\n",
    "model = log_reg_cv_f1_pca_features.best_estimator_\n",
    "print('best score is :', log_reg_cv_f1_pca_features.best_score_)\n",
    "print('best params are :', log_reg_cv_f1_pca_features.best_params_)"
   ]
  },
  {
   "cell_type": "code",
   "execution_count": 18,
   "metadata": {},
   "outputs": [
    {
     "name": "stdout",
     "output_type": "stream",
     "text": [
      "Train\n",
      "f1   0.6674049109087603\n",
      "accuracy score  0.6775956284153005\n",
      "Test\n",
      "f1  0.6210316009928665\n",
      "accuracy score 0.6262626262626263\n"
     ]
    }
   ],
   "source": [
    "# оценка производительности модели\n",
    "\n",
    "print('Train')\n",
    "print('f1  ', f1_score(y_train, model.predict(X_train_pca), average='weighted'))\n",
    "print('accuracy score ', accuracy_score(y_train, model.predict(X_train_pca)))\n",
    "\n",
    "print('Test')\n",
    "print('f1 ', f1_score(y_test, model.predict(X_test_pca), average='weighted'))\n",
    "print('accuracy score', accuracy_score(y_test, model.predict(X_test_pca)))"
   ]
  },
  {
   "cell_type": "code",
   "execution_count": 19,
   "metadata": {},
   "outputs": [
    {
     "data": {
      "text/plain": [
       "<AxesSubplot:title={'center':'ROC Curves'}, xlabel='False Positive Rate', ylabel='True Positive Rate'>"
      ]
     },
     "execution_count": 19,
     "metadata": {},
     "output_type": "execute_result"
    },
    {
     "data": {
      "image/png": "[encoded data removed]",
      "text/plain": [
       "<Figure size 432x288 with 1 Axes>"
      ]
     },
     "metadata": {
      "needs_background": "light"
     },
     "output_type": "display_data"
    }
   ],
   "source": [
    "#построение ROC-кривой\n",
    "plot_roc(y_train, model.predict_proba(X_train_pca))"
   ]
  },
  {
   "cell_type": "markdown",
   "metadata": {
    "nbgrader": {
     "grade": false,
     "grade_id": "cell-4fbf16c64076e139",
     "locked": true,
     "schema_version": 2,
     "solution": false
    }
   },
   "source": [
    "#### 2.5. Decision tree\n",
    "* Now train a desicion tree on the same data. Find optimal tree depth (`max_depth`) using cross-validation.\n",
    "\n",
    "* Measure the model quality using the same metrics you used above."
   ]
  },
  {
   "cell_type": "code",
   "execution_count": 20,
   "metadata": {
    "nbgrader": {
     "grade": true,
     "grade_id": "cell-748ed20b51c67fab",
     "locked": false,
     "points": 15,
     "schema_version": 2,
     "solution": true
    }
   },
   "outputs": [
    {
     "name": "stdout",
     "output_type": "stream",
     "text": [
      "best score is  0.6503085904920768\n",
      "best params are {'max_depth': 10}\n"
     ]
    }
   ],
   "source": [
    "from sklearn.tree import DecisionTreeClassifier\n",
    "\n",
    "# YOUR CODE HERE\n",
    "\n",
    "grid_cv_tree = GridSearchCV(\n",
    "    DecisionTreeClassifier(),\n",
    "    param_grid={'max_depth': [2, 3, 5, 7, 8, 9, 10]},\n",
    "    cv=5,\n",
    "    n_jobs=-1\n",
    ").fit(X_train_pca, y_train)\n",
    "\n",
    "model = grid_cv_tree.best_estimator_\n",
    "print('best score is ', grid_cv_tree.best_score_)\n",
    "print('best params are', grid_cv_tree.best_params_)\n"
   ]
  },
  {
   "cell_type": "code",
   "execution_count": 21,
   "metadata": {},
   "outputs": [
    {
     "name": "stdout",
     "output_type": "stream",
     "text": [
      "Train\n",
      "f1  0.972738950981423\n",
      "accuracy sc is 0.9726775956284153\n",
      "Test\n",
      "f1  0.6342073152504835\n",
      "accuracy sc is 0.6296296296296297\n"
     ]
    }
   ],
   "source": [
    "print('Train')\n",
    "print('f1 ', f1_score(y_train, model.predict(X_train_pca), average='weighted'))\n",
    "print('accuracy sc is', accuracy_score(y_train, model.predict(X_train_pca)))\n",
    "\n",
    "print('Test')\n",
    "print('f1 ', f1_score(y_test, model.predict(X_test_pca), average='weighted'))\n",
    "print('accuracy sc is', accuracy_score(y_test, model.predict(X_test_pca)))"
   ]
  },
  {
   "cell_type": "markdown",
   "metadata": {
    "nbgrader": {
     "grade": false,
     "grade_id": "cell-9eadd4d8a03ae67a",
     "locked": true,
     "schema_version": 2,
     "solution": false
    }
   },
   "source": [
    "#### 2.6. Bagging.\n",
    "Here starts the ensembling part.\n",
    "\n",
    "First we will use the __Bagging__ approach. Build an ensemble of $N$ algorithms varying N from $N_{min}=2$ to $N_{max}=100$ (with step 5).\n",
    "\n",
    "We will build two ensembles: of logistic regressions and of decision trees.\n",
    "\n",
    "*Comment: each ensemble should be constructed from models of the same family, so logistic regressions should not be mixed up with decision trees.*\n",
    "\n",
    "\n",
    "*Hint 1: To build a __Bagging__ ensebmle varying the ensemble size efficiently you might generate $N_{max}$ subsets of `train` data (of the same size as the original dataset) using bootstrap procedure once. Then you train a new instance of logistic regression/decision tree with optimal hyperparameters you estimated before on each subset (so you train it from scratch). Finally, to get an ensemble of $N$ models you average the $N$ out of $N_{max}$ models predictions.*\n",
    "\n",
    "*Hint 2: sklearn might help you with this taks. Some appropriate function/class might be out there.*\n",
    "\n",
    "* Plot `f1` and `accuracy` scores plots w.r.t. the size of the ensemble.\n",
    "\n",
    "* Briefly analyse the plot. What is the optimal number of algorithms? Explain your answer.\n",
    "\n",
    "* How do you think, are the hyperparameters for the decision trees you found in 2.5 optimal for trees used in ensemble? "
   ]
  },
  {
   "cell_type": "markdown",
   "metadata": {
    "nbgrader": {
     "grade": false,
     "grade_id": "cell-241b7691ab44cbfb",
     "locked": true,
     "schema_version": 2,
     "solution": false
    }
   },
   "source": [
    "#### 2.7. Random Forest\n",
    "Now we will work with the Random Forest (its `sklearn` implementation).\n",
    "\n",
    "* * Plot `f1` and `accuracy` scores plots w.r.t. the number of trees in Random Forest.\n",
    "\n",
    "* What is the optimal number of trees you've got? Is it different from the optimal number of logistic regressions/decision trees in 2.6? Explain the results briefly."
   ]
  },
  {
   "cell_type": "code",
   "execution_count": 29,
   "metadata": {
    "nbgrader": {
     "grade": true,
     "grade_id": "cell-888755d0f3d91620",
     "locked": false,
     "points": 15,
     "schema_version": 2,
     "solution": true
    }
   },
   "outputs": [],
   "source": [
    "from sklearn.ensemble import RandomForestClassifier\n",
    "\n",
    "# YOUR CODE HERE\n",
    "from sklearn.ensemble import RandomForestClassifier\n",
    "\n",
    "# YOUR CODE HERE\n",
    "rf_f1, rf_acc = [], []\n",
    "\n",
    "for N in range(N_min, N_max, step):\n",
    "    rf = RandomForestClassifier(n_estimators=N).fit(X_train_pca, y_train)\n",
    "    rf_pred = rf.predict(X_test_pca)\n",
    "    rf_f1.append(f1_score(y_test, rf_pred, average='weighted'))\n",
    "    rf_acc.append(accuracy_score(y_test, rf_pred))"
   ]
  },
  {
   "cell_type": "code",
   "execution_count": 30,
   "metadata": {},
   "outputs": [
    {
     "data": {
      "image/png": "[encoded data removed]",
      "text/plain": [
       "<Figure size 432x288 with 1 Axes>"
      ]
     },
     "metadata": {
      "needs_background": "light"
     },
     "output_type": "display_data"
    }
   ],
   "source": [
    "plt.title('Test accuracy ')\n",
    "plt.xlabel('N')\n",
    "plt.ylabel('accuracy')\n",
    "plt.plot(range(N_min, N_max, step), rf_acc);"
   ]
  },
  {
   "cell_type": "code",
   "execution_count": 31,
   "metadata": {},
   "outputs": [
    {
     "data": {
      "image/png": "[encoded data removed]",
      "text/plain": [
       "<Figure size 432x288 with 1 Axes>"
      ]
     },
     "metadata": {
      "needs_background": "light"
     },
     "output_type": "display_data"
    }
   ],
   "source": [
    "plt.title('Test F1')\n",
    "plt.xlabel('N')\n",
    "plt.ylabel('F1')\n",
    "plt.plot(range(N_min, N_max, step), rf_f1);"
   ]
  },
  {
   "cell_type": "markdown",
   "metadata": {
    "nbgrader": {
     "grade": false,
     "grade_id": "cell-99191c0852538d4d",
     "locked": true,
     "schema_version": 2,
     "solution": false
    }
   },
   "source": [
    "#### 2.8. Learning curve\n",
    "Your goal is to estimate, how does the model behaviour change with the increase of the `train` dataset size.\n",
    "\n",
    "* Split the training data into 10 equal (almost) parts. Then train the models from above (Logistic regression, Desicion Tree, Random Forest) with optimal hyperparameters you have selected on 1 part, 2 parts (combined, so the train size in increased by 2 times), 3 parts and so on.\n",
    "\n",
    "* Build a plot of `accuracy` and `f1` scores on `test` part, varying the `train` dataset size (so the axes will be score - dataset size.\n",
    "\n",
    "* Analyse the final plot. Can you make any conlusions using it? "
   ]
  },
  {
   "cell_type": "code",
   "execution_count": 36,
   "metadata": {
    "nbgrader": {
     "grade": true,
     "grade_id": "cell-e39bc7e7dff61ff9",
     "locked": false,
     "points": 15,
     "schema_version": 2,
     "solution": true
    }
   },
   "outputs": [],
   "source": [
    "# YOUR CODE HERE\n",
    "# YOUR CODE HERE\n",
    "def experiment(model_type):\n",
    "    step = len(X_train_pca) // 10\n",
    "    accuracy_scores, f1_scores = [], []\n",
    "\n",
    "    for i in range(1, 11):\n",
    "        new_x_train = X_train_pca[:i * step if i < 10 else len(X_train_pca)]\n",
    "        new_y_train = y_train[:i * step if i < 10 else len(X_train_pca)]\n",
    "\n",
    "        if model_type == 'log_reg':\n",
    "            model = LogisticRegression(\n",
    "                C=10, fit_intercept=True, max_iter=400, penalty='l1',\n",
    "                random_state=42, solver='saga'\n",
    "            )\n",
    "        elif model_type == 'dec_tree':\n",
    "            model = DecisionTreeClassifier(max_depth=9, random_state=42)\n",
    "        elif model_type == 'rand_forest':\n",
    "            model = RandomForestClassifier(n_estimators=75, random_state=42)\n",
    "\n",
    "        model = model.fit(new_x_train, new_y_train)\n",
    "        preds = model.predict(X_test_pca)\n",
    "\n",
    "        accuracy_scores.append(accuracy_score(y_test, preds))\n",
    "        f1_scores.append(f1_score(y_test, preds, average='weighted'))\n",
    "\n",
    "    fig, ax = plt.subplots(nrows=1, ncols=2, figsize=(16, 8))\n",
    "\n",
    "    for i, metric_name, metric_values in zip([1, 2], ['F1', 'Accuracy'], [f1_scores, accuracy_scores]):\n",
    "        plt.subplot(1, 2, i)\n",
    "        plt.title(f'{metric_name} test score for {model_type} with respect to train_size')\n",
    "        plt.xlabel('train_size')\n",
    "        plt.ylabel(metric_name.lower())\n",
    "        plt.xticks(np.linspace(0, 1, 11))\n",
    "        plt.yticks(np.linspace(0, 1, 11))\n",
    "        plt.ylim(0, 1)\n",
    "        plt.grid(which='major', axis='both', color='grey', linestyle='-', linewidth=1)\n",
    "        plt.plot(np.linspace(0.1, 1, 10), metric_values, linewidth=2)\n"
   ]
  },
  {
   "cell_type": "code",
   "execution_count": 37,
   "metadata": {},
   "outputs": [
    {
     "data": {
      "image/png": "[encoded data removed]",
      "text/plain": [
       "<Figure size 1152x576 with 2 Axes>"
      ]
     },
     "metadata": {
      "needs_background": "light"
     },
     "output_type": "display_data"
    }
   ],
   "source": [
    "import warnings\n",
    "warnings.filterwarnings('ignore')\n",
    "\n",
    "experiment('log_reg')"
   ]
  },
  {
   "cell_type": "code",
   "execution_count": 38,
   "metadata": {},
   "outputs": [
    {
     "data": {
      "image/png": "[encoded data removed]",
      "text/plain": [
       "<Figure size 1152x576 with 2 Axes>"
      ]
     },
     "metadata": {
      "needs_background": "light"
     },
     "output_type": "display_data"
    }
   ],
   "source": [
    "experiment('dec_tree')\n"
   ]
  },
  {
   "cell_type": "code",
   "execution_count": 39,
   "metadata": {},
   "outputs": [
    {
     "data": {
      "image/png": "[encoded data removed]",
      "text/plain": [
       "<Figure size 1152x576 with 2 Axes>"
      ]
     },
     "metadata": {
      "needs_background": "light"
     },
     "output_type": "display_data"
    }
   ],
   "source": [
    "experiment('rand_forest')"
   ]
  },
  {
   "cell_type": "markdown",
   "metadata": {},
   "source": [
    "#### 2.9. Boosting\n",
    "Your goal is to build a boosting ensemble using xgboost, CatBoost or lightgbm package.\n",
    "Please, do not use the sklearn API for these models.\n",
    "\n",
    "Find optimal number of decision trees in the boosting ensembe using grid search or other methods.\n",
    "Please, explain your answer."
   ]
  },
  {
   "cell_type": "code",
   "execution_count": null,
   "metadata": {},
   "outputs": [],
   "source": [
    "# YOUR CODE HERE"
   ]
  }
 ],
 "metadata": {
  "celltoolbar": "Create Assignment",
  "kernelspec": {
   "display_name": "Python 3 (ipykernel)",
   "language": "python",
   "name": "python3"
  },
  "language_info": {
   "codemirror_mode": {
    "name": "ipython",
    "version": 3
   },
   "file_extension": ".py",
   "mimetype": "text/x-python",
   "name": "python",
   "nbconvert_exporter": "python",
   "pygments_lexer": "ipython3",
   "version": "3.9.7"
  },
  "toc": {
   "base_numbering": 1,
   "nav_menu": {},
   "number_sections": false,
   "sideBar": true,
   "skip_h1_title": false,
   "title_cell": "Table of Contents",
   "title_sidebar": "Contents",
   "toc_cell": false,
   "toc_position": {},
   "toc_section_display": true,
   "toc_window_display": false
  }
 },
 "nbformat": 4,
 "nbformat_minor": 4
}
