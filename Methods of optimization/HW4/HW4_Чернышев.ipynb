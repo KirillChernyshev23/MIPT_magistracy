{
 "cells": [
  {
   "cell_type": "markdown",
   "metadata": {
    "id": "urnPWORezzaS"
   },
   "source": [
    "# Домашнее задание 4\n",
    "\n",
    "__Дедлайн: 15.12.2021, 23:59__\n",
    "\n",
    "__Дедлайн является более жёстким, чем обычно. Ваши баллы будут убывать за опоздание на каждые полчаса до нуля в течение 10 часов . Т.е. человек приславший 15.12.2022 в 00:01 получит 19/20 баллов, а приславший в 09:30 - 1/20.__\n",
    "\n",
    "\n",
    "Файлы должны иметь имя HW4_ФАМИЛИЯ.ipynb, где ФАМИЛИЯ - Ваша фамилия русскими буквами.\n",
    "\n",
    "Решение каждой задачи необходимо поместить после её условия.\n",
    "\n",
    "Пожалуйста, пишите свои решения чётко и понятно.\n",
    "При полном запуске Вашего решения (Kernel -> Restart & Run All) все ячейки должны выполняться **без ошибок**."
   ]
  },
  {
   "cell_type": "markdown",
   "metadata": {
    "id": "1DY0pn7mzzaX"
   },
   "source": [
    "Во всех задачах, где требуется сравнить методы, требуется аккуратное офрмление графиков, если Вы их будете строить, и комментарии к графикам (кто кого быстрее и когда сходится, какие интересные моменты Вы видите на графиках, как Вы их можете объяснить). Аналогично, требуются комментарии в случае, если Вы сравниваете время работы.\n",
    "\n",
    "Задачи со звездочкой не являются обязательными к решению, но за них будут даны бонусные баллы.\n",
    "\n",
    "Суммарное количество баллов: 18"
   ]
  },
  {
   "cell_type": "markdown",
   "metadata": {
    "id": "fEDSgfGqzzaa"
   },
   "source": [
    "## Задача 1. Group Lasso [9]\n",
    "\n",
    "Рассмотрим задачу линейной регрессии. Пусть есть некоторая матрица признаков $X$ и целевая переменная $\\mathbf{y}$. Целью задачи является найти вектор $w$, такой что $\\mathbf{y}\\approx X\\mathbf{w}$. Такой вектор ищется за счет минимизации невязки $Xw-y$, т.е. решения задачи оптимизации:\n",
    "\n",
    "$$\\frac{1}{2n}\\|X\\mathbf{w}-\\mathbf{y}\\|^2\\rightarrow \\min_{\\mathbf{w}\\in\\mathbb{R}^m}. \\qquad\\qquad (1)$$\n",
    "\n",
    "К сожалению, данная проблема зачастую плохо определена. Для того, чтобы сделать задачу хорошо определенной или получить решение с некоторыми свойствами, предлагается решать регуляризованную задачу.\n",
    "\n",
    "$$\\frac{1}{2n}\\|X\\mathbf{w}-\\mathbf{y}\\|^2 + \\sigma R(\\mathbf{w})\\rightarrow \\min_{\\mathbf{w}\\in\\mathbb{R}^m}. \\qquad\\qquad (2)$$\n",
    "\n",
    "На семинарах мы упоминали $\\ell_2$-регуляризацию $R(w)=\\|\\mathbf{\\mathbf{w}}\\|_2^2$, которая дает малость компонент вектора $w$. На семинаре про проксимальные методы мы работали с $\\ell_1$ регуляризатором $R(\\mathbf{w})=\\|\\mathbf{w}\\|_1$ (LASSO), который дает разреженность компонент вектора $w$. В данном упражнении мы будем работать с еще одним регуляризатором.\n",
    "\n",
    "В случае, если $m$ признаков $(w_1\\dots w_m)$ можно разбить на $K$ некоторых подгрупп вида $(w_1\\dots w_{i_1}),\\dots (w_{K-1} \\dots w_{i_{K}})$ и сопоставить каждой из групп вектор вида $\\mathbf{w}_1 \\dots \\mathbf{w}_K$ соответсвующей размерности, то можно сформулировать так называемую задачу Group LASSO:\n",
    "$$\\frac{1}{2n}\\left\\|\\sum\\limits_{i=1}^K X_i \\mathbf{w}_i-\\mathbf{y}\\right\\|^2 + \\sigma \\sum\\limits_{i=1}^K \\|\\mathbf{w}_i\\|_2\\rightarrow \\min_{\\mathbf{w}_i \\in\\mathbb{R}^l, i=\\overline{1,K}}, \\qquad\\qquad (3)$$\n",
    "где $X_i$ - это соответствующие подматрицы матрицы $X$. Заметим, что эта постановка является некоторым упрощением, поскольку мы предположили, что все группы имеют размер $l$.\n",
    "\n",
    "\n",
    "1. [1] Реализуйте вычисление субградиента `subgradF`.\n",
    "\n",
    "2. [1] Рассмотрите различные стратегии выбора шага для субградиентного метода и выберите лучший вариант\n",
    "\n",
    "3. [3] Покажите, что проксимальный оператор функции $\\|\\cdot\\|$ может быть найден по следующей формуле:\n",
    "$$\\text{prox}_{\\alpha, \\|\\cdot\\|}(u) = \\left(1-\\frac{\\alpha}{\\|\\mathbf{u}\\|_2}\\right)_+ \\mathbf{u},$$\n",
    "где $(a)_+=\\max(0, a)$.\n",
    "\n",
    "4. [1] Найдите выражение для проксимального оператора $\\text{prox}_{\\alpha, R(\\mathbf{w})}$ для $R(\\mathbf{w})=\\sigma \\sum\\limits_{i=1}^K \\|\\mathbf{w}_i\\|_2,$ пользуясь результатом предыдущего пункта. Реализуйте его в классе `R_prox`\n",
    "\n",
    "6. [2] Сравните по времени и по итерациям\n",
    "\n",
    "    - Субградиентный метод с 4 пункта\n",
    "    \n",
    "    - Проксимальный метод с Backtracking Search\n",
    "\n",
    "    - Ускоренный Проксимальный метод с Backtracking Search\n",
    "    \n",
    "    Для сходимости рисуйте графики $f_k-f^*$, где $f^*$ есть минимальное достигнутое значение всеми методами минус некоторая малая константа (напр., $10^{-9}$).\n",
    "    \n",
    "7. [1] Для каждого из решений, полученных на предыдущем пункте, выведите количество нулевых весов в кажой группе. Сделайте выводы.\n",
    "\n",
    "Матрицу признаков разбитых на группы возьмите из файла `data/task1/X.npy`, вектор целевых значений из файла `data/task1/y.npy`. Матрица $X$ имеет размерность $(n,K,l)$, соответсвенно, $n$ объектов с $Kl$ признаков разбитых на $K$ групп.\n",
    "\n",
    "В качестве стартовой точки возьмите нулевой вектор. Параметр регуляризации $\\sigma=1$."
   ]
  },
  {
   "cell_type": "markdown",
   "metadata": {
    "id": "PmmMRnENzzac"
   },
   "source": [
    "### Решение задачи 1:"
   ]
  },
  {
   "cell_type": "code",
   "execution_count": 14,
   "metadata": {
    "id": "-4TwOsbizzae"
   },
   "outputs": [],
   "source": [
    "import numpy as np\n",
    "import time\n",
    "import matplotlib.pyplot as plt"
   ]
  },
  {
   "cell_type": "code",
   "execution_count": 15,
   "metadata": {
    "id": "cd6lRP3Pzzaf"
   },
   "outputs": [],
   "source": [
    "class GroupLasso:\n",
    "    \"\"\"\n",
    "    Class for Group Lasso Problem\n",
    "    \"\"\"\n",
    "\n",
    "    def __init__(self, X, y, sigma=0.):\n",
    "        \"\"\"\n",
    "        :param X: np.array[n, K, l], features\n",
    "        :param y: np.array[n,], target vector\n",
    "        :param sigma: float, parameter of regularization\n",
    "        \"\"\"\n",
    "        self.X = X\n",
    "        self.y = y\n",
    "        self.n, self.K, self.l = X.shape\n",
    "        self.sigma = sigma\n",
    "\n",
    "    def F(self, w):\n",
    "        \"\"\"\n",
    "        Calculate function\n",
    "        F(w)= 1/2n ||Xw-y||^2 + sigma sum_{i=1}^k ||w_i||\n",
    "\n",
    "        :param w: np.array[K, l], parameters\n",
    "        :return: float, f(A)\n",
    "        \"\"\"\n",
    "        return self.f(w) + self.R(w)\n",
    "\n",
    "    def subgradF(self, w):\n",
    "        \"\"\"\n",
    "        Calculate subgradient of function\n",
    "        F(w)= 1/2n ||Xw-y||^2 + sigma sum_{i=1}^k ||w_i||\n",
    "\n",
    "        :param w: np.array[K, l], parameters\n",
    "        :return: float, F'(w)\n",
    "        \"\"\"\n",
    "        # YOUR CODE HERE\n",
    "        X, y = self.X, self.y\n",
    "        Xw = np.dot(X.reshape(self.n, -1), w.reshape(-1))\n",
    "        r = Xw - y\n",
    "        grad_f = self.gradf(w)\n",
    "        norm_w = np.linalg.norm(w, axis=1)\n",
    "        subgrad_R = self.sigma * np.nan_to_num(w / np.where(norm_w == 0, 1, norm_w)[:, np.newaxis])\n",
    "        subgrad = grad_f + subgrad_R\n",
    "        return subgrad\n",
    "        pass\n",
    "\n",
    "    def f(self, w):\n",
    "        \"\"\"\n",
    "        Calculate function\n",
    "        f(A)= 1/2n ||Xw-y||^2\n",
    "\n",
    "        :param w: np.array[K, l], parameters\n",
    "        :return: float, f(w)\n",
    "        \"\"\"\n",
    "        X, y = self.X, self.y\n",
    "        Xw = np.dot(X.reshape(n, -1), w.reshape(-1))\n",
    "        r = Xw - y\n",
    "        val = 1 / (2 * self.n) * (r ** 2).sum()\n",
    "        return val\n",
    "\n",
    "    def gradf(self, w):\n",
    "        \"\"\"\n",
    "        Calculate gradient of function f\n",
    "\n",
    "        :param w: np.array[K, l], parameters\n",
    "        :return: np.array[K, l], gradient with respect to w\n",
    "        \"\"\"\n",
    "        X, y = self.X, self.y\n",
    "        Xw = np.dot(X.reshape(self.n, -1), w.reshape(-1))\n",
    "        r = Xw - y\n",
    "        g = (X.T @ r).T\n",
    "        return 1 / self.n * g\n",
    "\n",
    "    def R(self, w):\n",
    "        \"\"\"\n",
    "        Calculate function\n",
    "        R(w)=  sigma sum_{i=1}^k ||w_i||\n",
    "\n",
    "        :param w: np.array[K, l], parameters\n",
    "        :return: float, R(w)\n",
    "        \"\"\"\n",
    "        return self.sigma * np.linalg.norm(w, axis=1).sum()\n",
    "\n",
    "    def R_prox(self, w, alpha):\n",
    "        \"\"\"\n",
    "        Calculate prox-operator of R at point w\n",
    "\n",
    "        :param w: np.array[K, l], parameters\n",
    "        :param alpha: float, parameter for prox method\n",
    "        :return: np.array[K, l], result of prox-operator\n",
    "        \"\"\"\n",
    "        # YOUR CODE HERE\n",
    "        norm_w = np.linalg.norm(w, axis=1)\n",
    "        factor = np.where(norm_w != 0, np.maximum(0, 1 - alpha / np.maximum(norm_w, 1e-10)), 0)\n",
    "        prox_result = (factor[:, np.newaxis] * w)\n",
    "\n",
    "        return prox_result\n",
    "        pass\n",
    "    \n",
    "    def proximal_gradient_descent(self, w_init, n_iterations, beta=0.5, alpha_init=1.0):\n",
    "        \"\"\"\n",
    "        Proximal Gradient Descent with Backtracking Search\n",
    "\n",
    "        :param w_init: np.array[K, l], initial point\n",
    "        :param n_iterations: int, number of iterations\n",
    "        :param beta: float, factor for decreasing step size\n",
    "        :param alpha_init: float, initial step size\n",
    "        :return: tuple, final weights and optimization history\n",
    "        \"\"\"\n",
    "        w = w_init.copy()\n",
    "        history = [{'iteration': 0, 'f_val': self.F(w)}]\n",
    "\n",
    "        for i in range(1, n_iterations + 1):\n",
    "            alpha = alpha_init\n",
    "            grad = self.subgradF(w)\n",
    "            while self.F(self.R_prox(w - alpha * grad, alpha)) > self.F(w) - (alpha / 2) * np.linalg.norm(grad)**2:\n",
    "                alpha *= beta\n",
    "\n",
    "            w = self.R_prox(w - alpha * grad, alpha)\n",
    "\n",
    "            # Сохраняем историю оптимизации\n",
    "            history.append({'iteration': i, 'f_val': self.F(w)})\n",
    "\n",
    "        return w, history"
   ]
  },
  {
   "cell_type": "code",
   "execution_count": 16,
   "metadata": {
    "id": "cute9CVBzzah",
    "outputId": "0b69d25c-b79d-45b7-dfc4-9e241faca349"
   },
   "outputs": [
    {
     "data": {
      "text/plain": [
       "((200, 5, 20), (200,))"
      ]
     },
     "execution_count": 16,
     "metadata": {},
     "output_type": "execute_result"
    }
   ],
   "source": [
    "X = np.load(\"X.npy\")\n",
    "y = np.load(\"y.npy\")\n",
    "X.shape, y.shape"
   ]
  },
  {
   "cell_type": "code",
   "execution_count": 17,
   "metadata": {
    "id": "pc48sXe3zzai"
   },
   "outputs": [],
   "source": [
    "n = 200\n",
    "K = 5\n",
    "l = 20\n",
    "sigma = 1\n",
    "problem = GroupLasso(X, y, sigma)\n",
    "w0 = np.zeros((K, l))\n",
    "wrand = np.random.randn(K, l)"
   ]
  },
  {
   "cell_type": "code",
   "execution_count": 18,
   "metadata": {},
   "outputs": [
    {
     "data": {
      "text/plain": [
       "(5, 20)"
      ]
     },
     "execution_count": 18,
     "metadata": {},
     "output_type": "execute_result"
    }
   ],
   "source": [
    "# вычисление субградиента работает\n",
    "problem.subgradF(w0).shape\n",
    "problem.subgradF(wrand).shape"
   ]
  },
  {
   "cell_type": "code",
   "execution_count": 19,
   "metadata": {},
   "outputs": [
    {
     "data": {
      "text/plain": [
       "array([[0., 0., 0., 0., 0., 0., 0., 0., 0., 0., 0., 0., 0., 0., 0., 0.,\n",
       "        0., 0., 0., 0.],\n",
       "       [0., 0., 0., 0., 0., 0., 0., 0., 0., 0., 0., 0., 0., 0., 0., 0.,\n",
       "        0., 0., 0., 0.],\n",
       "       [0., 0., 0., 0., 0., 0., 0., 0., 0., 0., 0., 0., 0., 0., 0., 0.,\n",
       "        0., 0., 0., 0.],\n",
       "       [0., 0., 0., 0., 0., 0., 0., 0., 0., 0., 0., 0., 0., 0., 0., 0.,\n",
       "        0., 0., 0., 0.],\n",
       "       [0., 0., 0., 0., 0., 0., 0., 0., 0., 0., 0., 0., 0., 0., 0., 0.,\n",
       "        0., 0., 0., 0.]])"
      ]
     },
     "execution_count": 19,
     "metadata": {},
     "output_type": "execute_result"
    }
   ],
   "source": [
    "problem.R_prox(w0, alpha=0.1)"
   ]
  },
  {
   "cell_type": "code",
   "execution_count": 20,
   "metadata": {
    "id": "9nNxWLNgzzaj",
    "scrolled": true
   },
   "outputs": [
    {
     "data": {
      "image/png": "[encoded data removed]",
      "text/plain": [
       "<Figure size 720x432 with 1 Axes>"
      ]
     },
     "metadata": {
      "needs_background": "light"
     },
     "output_type": "display_data"
    }
   ],
   "source": [
    "class GroupLassoSolver(GroupLasso):\n",
    "    def __init__(self, X, y, sigma=0.):\n",
    "        super().__init__(X, y, sigma)\n",
    "\n",
    "    def solve_group_lasso(self, w_init, n_iterations, step_size):\n",
    "        w = w_init.copy()\n",
    "        history = [{'iteration': 0, 'f_val': self.F(w)}]\n",
    "\n",
    "        for i in range(1, n_iterations + 1):\n",
    "            # Вычисление субградиента\n",
    "            subgrad = self.subgradF(w)\n",
    "            # Обновление весов\n",
    "            w = w - step_size * subgrad\n",
    "            history.append({'iteration': i, 'f_val': self.F(w)})\n",
    "\n",
    "        return w, history\n",
    "\n",
    "# Инициализация объекта GroupLassoSolver\n",
    "group_lasso_solver = GroupLassoSolver(X, y, sigma=1.0)\n",
    "\n",
    "# Начальная точка (нулевой вектор)\n",
    "w_init = np.zeros((group_lasso_solver.K, group_lasso_solver.l))\n",
    "\n",
    "# Решение задачи Group LASSO\n",
    "w_group_lasso, history_group_lasso = group_lasso_solver.solve_group_lasso(w_init, n_iterations=1000, step_size=0.01)\n",
    "\n",
    "# Визуализация сходимости\n",
    "f_star_group_lasso = history_group_lasso[-1]['f_val'] - 1e-9\n",
    "\n",
    "plt.figure(figsize=(10, 6))\n",
    "plt.semilogy([history_group_lasso[i]['iteration'] for i in range(len(history_group_lasso))], \n",
    "             [history_group_lasso[i]['f_val'] - f_star_group_lasso for i in range(len(history_group_lasso))], label='Group LASSO')\n",
    "\n",
    "plt.title('Convergence Plot for Group LASSO')\n",
    "plt.xlabel('Iteration')\n",
    "plt.ylabel('$f_k - f^*$')\n",
    "plt.legend()\n",
    "plt.show()\n"
   ]
  },
  {
   "cell_type": "markdown",
   "metadata": {},
   "source": [
    "[3]\n",
    "$$\n",
    "\\text{prox}_{\\alpha, \\| \\|} (\\mathbf x) = \\left( 1 - \\frac{\\alpha}{\\| x \\|} \\right)_{+} \\mathbb{\\mathbf x}\n",
    "$$\n",
    "\n",
    "Имеем\n",
    "$$\n",
    "\\text{prox}_{\\alpha, \\| \\|} (\\mathbf x) = \\arg \\min_{\\mathbf u} \\left\\{ \\| \\mathbf u \\| + \\frac{1}{2 \\alpha} \\| \\mathbf u - \\mathbf x \\|^2 \\right\\}\n",
    "$$\n",
    "\n",
    "Дифференцируем и получаем следующее уравнение:\n",
    "$$\n",
    "\\frac{\\mathbf u}{\\| \\mathbf u \\|} + \\frac{1}{\\alpha} (\\mathbf u - \\mathbf x) = 0\n",
    "$$\n",
    "\n",
    "Направления векторов $\\mathbf u$ и $\\mathbf x$ совпадают, поэтому можно записать их через вектор n, как $\\mathbf u = u \\mathbf n $ и $\\mathbf x = x \\mathbf n $, тогда\n",
    "$$\n",
    "\\mathbf n + \\frac{1}{\\alpha} (u \\mathbf n - x \\mathbf n) = 0\n",
    "$$\n",
    "\n",
    "Для норм получаем:\n",
    "$$\n",
    "1 + \\frac{1}{\\alpha} (u - x) = 0 \\quad \\rightarrow \\quad u = (x - \\alpha)_+\n",
    "$$\n",
    "\n",
    "Для векторов?\n",
    "$$\n",
    "\\mathbf u = \\frac{\\mathbf x}{\\| \\mathbf x \\|} (\\|\\mathbf x \\| - \\alpha)_+ = \\left( 1 - \\frac{\\alpha}{\\| \\mathbf x \\|} \\right)_+ \\mathbf x\n",
    "$$"
   ]
  },
  {
   "cell_type": "markdown",
   "metadata": {
    "id": "yapT-I3Bzzal"
   },
   "source": [
    "# Задача 2. Квази-ньютоновские методы [3]\n",
    "\n",
    "1. [2] Объясните, почему в методах BFGS и L-BFGS направление является направлением убывания\n",
    "\n",
    "2. [1] Покажите, что использование правила Вольфа для подбора шага гарантирует, что $s_k^\\top y_k > 0$"
   ]
  },
  {
   "cell_type": "markdown",
   "metadata": {
    "id": "sRLWu63bzzal"
   },
   "source": [
    "### Решение задачи 2:"
   ]
  },
  {
   "cell_type": "markdown",
   "metadata": {
    "id": "_x4iShIqzzam"
   },
   "source": [
    "Первый пункт.\n",
    "\n",
    "Если $B_k > 0$, тогда $B_k^{-1} > 0$, а направление убывания задается формулой $h_k = - \\alpha_k B_k^{-1} \\nabla f(x_k)$, то по определению направления убывания имеем:\n",
    "\n",
    "$$\n",
    "\\langle h_k, \\nabla f(x_k) \\rangle = - \\alpha_k [ \\nabla f(x_k)^T B_k^{-1} \\nabla f(x_k) ] < 0.\n",
    "$$\n",
    "\n",
    "Выражение в квадратных скобках всегда больше нуля, $\\alpha_k > 0$. Поэтому из-за знака \"минус\" все выражение меньше нуля. Определение \"направления убывания\" выполнено.\n"
   ]
  },
  {
   "cell_type": "markdown",
   "metadata": {},
   "source": [
    "Второй пункт.\n",
    "\n",
    "Два условия для правила Вольфа:\n",
    "1. $ f(x_k + \\alpha_k h_k) - f(x_k) \\leq c_1 \\alpha_k \\langle h_k, \\nabla f(x_k) \\rangle $\n",
    "2. $ - \\langle h_k, \\nabla f(x_k + \\alpha_k h_k) \\rangle \\leq -c_2 \\langle h_k, \\nabla f(x_k) \\rangle $\n",
    "\n",
    "где $0 < c_1 < c_2 < 1$, а $x_{k+1} = x_k + \\alpha_k h_k $.\n",
    "\n",
    "Также имеем $s_k = x_{k+1} - x_k$ и $y_k = \\nabla f(x_{k+1}) - \\nabla f(x_k)$.\n",
    "\n",
    "$$\n",
    "\\langle s_k, y_k \\rangle = \\alpha_k \\langle h_k, \\nabla f(x_{k+1}) - \\nabla f(x_k) \\rangle = \\alpha_k \\langle h_k, \\nabla f(x_{k+1}) \\rangle - \\alpha_k \\langle h_k, \\nabla f(x_{k}) \\rangle > 0\n",
    "$$\n",
    "\n",
    "$$\n",
    "\\langle h_k, \\nabla f(x_{k+1}) \\rangle > \\langle h_k, \\nabla f(x_{k}) \\rangle\n",
    "$$\n",
    "\n",
    "По второму условию Вольфа имеем после домножения на минус 1: $\\langle h_k, \\nabla f(x_{k+1}) \\rangle \\geq c_2 \\langle h_k, \\nabla f(x_{k}) \\rangle > \\langle h_k, \\nabla f(x_{k}) \\rangle$.\n",
    "\n",
    "Таким образом показали, что использование правила Вольфа для подбора шага гарантирует, что $s_k^\\top y_k > 0$"
   ]
  },
  {
   "cell_type": "markdown",
   "metadata": {
    "id": "ne8_hXtazzan"
   },
   "source": [
    "# Задача 3. L-BFGS [6]\n",
    "\n",
    "Рассмотрим алгоритм L-BFGS, приведенный на семинаре. В данном упражнении предлагается показать, что данный алгоритм действительно реализует умножение матрицы $H_k$ на $\\nabla f_k$. Введем обозначение $H_{k-m}:=H_k^0, H_{j+1}=V_{j}^\\top H_{j} V_{j} +\\rho_j s_j s_j^\\top$\n",
    "\n",
    "1. [3] Обозначим за $q_l$ вектор в ячейке $q$ в момент $i=l$ и формально $q_k=\\nabla f_k$. Покажите, что в первом цикле в момент $i=l, l=\\overline{k-1, k-m}$ Вы получите вектор $q_{i}=V_{l}\\dots V_{k-1} \\nabla f(x_k)$. Соответственно, после первого цикла Вы имеете вектор $V_{k-m}\\dots V_{k-1} \\nabla f(x_k).$\n",
    "\n",
    "2. [3] Обозначим за $r_l$ вектор в ячейке $r$ в момент $i=l$. Заметим, при инициализации в $r$ лежит вектор $r_{k-m-1}=H^0_k q_{k-m}=H_{k-m} q_{k-m}$. Покажите, что $r_l=H_{l+1} q_{l+1}.$ Соответсвенно, при выходе из цикла Вы получите $r=H_k q_k = H_k \\nabla f_k,$ что и требовалось доказать"
   ]
  },
  {
   "cell_type": "markdown",
   "metadata": {
    "id": "ilLqfBJ4zzan"
   },
   "source": [
    "### Решение задачи 3:"
   ]
  },
  {
   "cell_type": "markdown",
   "metadata": {
    "id": "fTDSZwRVzzao"
   },
   "source": [
    "Для начала напишем сам алгоритм L-BFGS\n",
    "$$q=g_k$$\n",
    "$$For \\space i=k-1,k-2,...,k-m:$$\n",
    "{\n",
    "$$ \\space \\space \\alpha_i = \\rho_i s_i^T q$$\n",
    "$$q = q - \\alpha_i y_i$$\n",
    "}\n",
    "$$\\gamma_k = \\frac{s_{k-1}^Ty_{k-1}}{y_{k-1}^Ty_{k-1}}\\$$\n",
    "\n",
    "$$H_k^0=\\gamma_kI$$\n",
    "\n",
    "$$For \\space i=k-m,k-m+1,...,k-1:$$\n",
    "{\n",
    "$$ \\space \\space \\beta_i = \\rho_i y_i^T z$$\n",
    "$$z = z + s_i(\\alpha_i - \\beta_i)$$\n",
    "}\n",
    "$$z = -z$$"
   ]
  },
  {
   "cell_type": "markdown",
   "metadata": {},
   "source": [
    "Теперь рассмотрим по отдельности каждый из циклов, применяя мат. индукцию:\n",
    "1) База: l=1. \n",
    "Рассматриваем первую итерацию. \n",
    "$$q=g_k - \\rho_{k-1}(s_{k-1}^T g_k) y_{k-1} = (I - \\rho_{k-1}(y_{k-1} s_{k-1}^T)) g_k = V_{k-1} g_k $$\n",
    "2) Пусть верно для l-1. \n",
    "$$q_{l-1} = V_{l-1}\\dots V_{k-1} \\nabla f(x_k)$$\n",
    "На итерации l:  \n",
    "$$ \\alpha_l = \\rho_l s_l^T q_{l-1}$$\n",
    "$$ q_l = q_{l-1} - \\alpha_l y_l = q_{l-1} - \\rho_l s_l^T q_{l-1} y_l = (I - \\rho_l y_l s_l^T) q_{l-1} = V_l q_{l-1} = V_l q_{l-1} = V_{l}\\dots V_{k-1} \\nabla f(x_k) $$\n"
   ]
  },
  {
   "cell_type": "markdown",
   "metadata": {},
   "source": [
    "Второй цикл:\n",
    "1) Первая итерация $l = k-m$.\n",
    "$$r_{k-m-1} = H_{k-m}q_{k-m} = H_{k-m} V_{k-m}\\dots V_{k-1} \\nabla f(x_k)$$\n",
    "$$\\beta_{k-m} = \\rho_{k-m} y_{k-m}^T H_{k-m}q_{k-m} =\\rho_{k-m} y_{k-m}^T H_{k-m} V_{k-m}\\dots V_{k-1} \\nabla f(x_k) = \\rho_{k-m} y_{k-m}^T H_{k-m} V_{k-m} q_{k-m+1} $$\n",
    "$r_{k-m} = r_{k-m-1} + s_{k-m}(\\rho_{k-m} s_{k-m}^T V_{k-m+1} \\dots V_{k-1} - \\rho_{k-m} y_{k-m}^T H_{k-m}V_{k-m}\\dots V_{k-1})  \\nabla f(x_k) = (H_{k-m} V_{k-m} + \\rho_{k-m} s_{k-m} s_{k-m}^T - \\rho_{k-m} s_{k-m}  y_{k-m}^T H_{k-m}V_{k-m}) V_{k-m+1} \\dots V_{k-1} \\nabla f(x_k) = ((I - \\rho_{k-m} s_{k-m}  y_{k-m}^T)H_{k-m} V_{k-m} + \\rho_{k-m} s_{k-m} s_{k-m}^T) q_{k-m+1} = (V_{k-m}^T H_{k-m} V_{k-m} +\\rho_{k-m} s_{k-m} s_{k-m}^T)q_{k-m+1} = H_{k-m+1} q_{k-m+1}$\n",
    "2) Шаг. Пусть верно для l-1: $r_{l-1} = H_{l} q_{l}$\n",
    "\n",
    "$\\beta_{l} = \\rho_{l} y_{l}^T H_{l}q_{l} = \\rho_{l} y_{l}^T H_{l} V_l q_{l+1} $\n",
    "\n",
    "$r_{l} = r_{l-1} + s_{l}(\\rho_{l} s_{l}^T V_{l+1} \\dots V_{k-1} - \\rho_{l} y_{l}^T H_{l}V_{l}\\dots V_{k-1})  \\nabla f(x_k) = (H_{l} V_{l} + \\rho_{l} s_{l} s_{l}^T - \\rho_{l} s_{l}  y_{l}^T H_{l}V_{l}) V_{l+1} \\dots V_{k-1} \\nabla f(x_k) = ((I - \\rho_{l} s_{l}  y_{l}^T)H_{l} V_{l} + \\rho_{l} s_{l} s_{l}^T) q_{l+1} = (V_{l}^T H_{l} V_{l} +\\rho_{l} s_{l} s_{l}^T)q_{l+1} = H_{l+1} q_{l+1}$\n",
    "\n",
    "\n",
    "На выходе из цикла получаем $r=H_k q_k = H_k \\nabla f_k$, что и требовалось."
   ]
  },
  {
   "cell_type": "markdown",
   "metadata": {
    "id": "-jo5H1vrzzar"
   },
   "source": [
    "# Задача 4*. LogSumExp Minimization [7]\n",
    "\n",
    "\n",
    "Рассмотрим задачу минимизации LogSumExp с $\\ell_2$-регуляризацией:\n",
    "\n",
    "$$\\min_{\\mathbf{x}\\in\\mathbb{R}^n} \\log \\left(\\sum_{j=1}^k \\exp\\left(\\mathbf{a}_j^\\top \\mathbf{x} - b_j\\right)\\right) + \\frac{\\sigma}{2}\\|\\mathbf{x}\\|_2^2$$\n",
    "\n",
    "Параметры задачи: $\\sigma$ - параметр регуляризации, $A\\in\\mathbb{R}^{k \\times n}$ - матрица, каждая строчка которой есть вектор $\\mathbf{a}_j$, $\\mathbf{b}$ - вектор констант $b_j$. Матрица $A$ в данной задаче разреженная.\n",
    "\n",
    "Параметр $\\sigma$ возьмите равным $10^{-2}$. Матрицу $A$ и вектор $\\mathbf{b}$ загрузите из файлов `A.npy` и `b.npy` из папки `data/task4`."
   ]
  },
  {
   "cell_type": "markdown",
   "metadata": {
    "id": "l1DWYUOqzzas"
   },
   "source": [
    "**Задачи**\n",
    "\n",
    "1. [3] Метод Ньютона является достаточно тяжелым методом из-за того, что на каждой итерации требуется решать систему уравнения $H_k h_k = -\\nabla f(x_k).$ Одним из способов ускорения - решение этой системы неточно при помощи метода сопряженных градиентов. Реализуйте такой подход, используя метод сопряженных градиентов. На каждой итерации метода Ньютона используйте точность решения $\\|r_k\\| \\leq \\varepsilon_{k} = \\min\\left(0.5, \\sqrt{\\|\\nabla f(x_k)\\|}\\right) \\|\\nabla f(x_k)\\|,$ где $r_k = H_k h_k +\\nabla f(x_k)$ невязка СЛАУ. Учтите, что в данной задаче матрица $A$ разреженная, и используйте это для эффективной реализации\n",
    "\n",
    "2. [2] Сравните по итерациям и во времени следующие методы:\n",
    "\n",
    "    - DFP\n",
    "    - BFGS\n",
    "    - BB с обоими типами шагов\n",
    "    - L-BFGS (с различным размером памяти)\n",
    "    - Неточный метод Ньютона\n",
    "    - Метод Ньютона\n",
    "    \n",
    "    Проведите эти эксперименты для различных $m$."
   ]
  },
  {
   "cell_type": "markdown",
   "metadata": {
    "id": "muCgpGSCzzat"
   },
   "source": [
    "### Решение задачи 3:"
   ]
  },
  {
   "cell_type": "code",
   "execution_count": 36,
   "metadata": {
    "id": "80Kyf5dSzzau"
   },
   "outputs": [],
   "source": [
    "# Место для Вашего решения\n",
    "import numpy as np\n",
    "from scipy.sparse.linalg import cg\n",
    "\n",
    "def objective_function(x, A, b, sigma):\n",
    "    inner_product = A.dot(x) - b\n",
    "    exp_term = np.exp(inner_product)\n",
    "    logsumexp = np.log(np.sum(exp_term))\n",
    "    regularization_term = 0.5 * sigma * np.linalg.norm(x)**2\n",
    "    return logsumexp + regularization_term\n",
    "\n",
    "def gradient(x, A, b, sigma):\n",
    "    inner_product = A.dot(x) - b\n",
    "    exp_term = np.exp(inner_product)\n",
    "    softmax = exp_term / np.sum(exp_term)\n",
    "    grad = A.T.dot(softmax) + sigma * x\n",
    "    return grad\n",
    "\n",
    "def hessian_vector_product(x, v, A, b, sigma):\n",
    "    inner_product = A.dot(x) - b\n",
    "    exp_term = np.exp(inner_product)\n",
    "    softmax = exp_term / np.sum(exp_term)\n",
    "    Av = A.T.dot(softmax) + sigma * v\n",
    "    return Av\n",
    "\n",
    "def newton_cg_method(A, b, sigma, epsilon=1e-6, max_iter=100):\n",
    "    n = A.shape[1]\n",
    "    x = np.zeros(n)\n",
    "    \n",
    "    for iteration in range(max_iter):\n",
    "        grad = gradient(x, A, b, sigma)\n",
    "        hessian = A.T.dot(np.diag(softmax)).dot(A) + sigma * np.eye(n)\n",
    "        \n",
    "        # Using Conjugate Gradient to solve Hessian system approximately\n",
    "        preconditioner = sigma * np.eye(n)\n",
    "        hessian_system = lambda v: hessian_vector_product(x, v, A, b, sigma)\n",
    "        h_k, _ = cg(hessian_system, -grad, tol=epsilon, maxiter=50, M=preconditioner)\n",
    "        \n",
    "        # Line search to determine the step size\n",
    "        alpha = 1.0\n",
    "        while objective_function(x + alpha * h_k, A, b, sigma) > objective_function(x, A, b, sigma) + 1e-4 * alpha * grad.dot(h_k):\n",
    "            alpha *= 0.5\n",
    "        \n",
    "        # Update x\n",
    "        x = x + alpha * h_k\n",
    "        \n",
    "        # Check convergence\n",
    "        if np.linalg.norm(grad) < epsilon:\n",
    "            break\n",
    "    \n",
    "    return x\n"
   ]
  },
  {
   "cell_type": "code",
   "execution_count": 37,
   "metadata": {},
   "outputs": [
    {
     "name": "stdout",
     "output_type": "stream",
     "text": [
      "Optimization terminated successfully.\n",
      "         Current function value: 6.950264\n",
      "         Iterations: 69\n",
      "         Function evaluations: 70070\n",
      "         Gradient evaluations: 70\n",
      "\n",
      "Optimizer: BFGS\n",
      "Iterations: 69\n",
      "Time: 50.7864 seconds\n",
      "Final objective value: 6.9502642714072955\n",
      "\n",
      "Optimizer: L-BFGS-B\n",
      "Iterations: 14\n",
      "Time: 10.9883 seconds\n",
      "Final objective value: 6.97752672240067\n",
      "Optimization terminated successfully.\n",
      "         Current function value: 6.950264\n",
      "         Iterations: 86\n",
      "         Function evaluations: 133133\n",
      "         Gradient evaluations: 133\n",
      "\n",
      "Optimizer: CG\n",
      "Iterations: 86\n",
      "Time: 93.4891 seconds\n",
      "Final objective value: 6.950264271169052\n",
      "The maximum number of function evaluations is exceeded.\n",
      "Number of iterations: 100, function evaluations: 100100, CG iterations: 491, optimality: 3.58e-07, constraint violation: 0.00e+00, execution time: 6.8e+01 s.\n",
      "\n",
      "Optimizer: trust-constr\n",
      "Iterations: 100\n",
      "Time: 69.0433 seconds\n",
      "Final objective value: 6.950264263648734\n"
     ]
    }
   ],
   "source": [
    "from scipy.optimize import minimize\n",
    "import time\n",
    "\n",
    "# Загрузка данных\n",
    "A = np.load('A.npy')\n",
    "b = np.load('b.npy')\n",
    "sigma = 1e-2\n",
    "\n",
    "# Функция для тестирования методов оптимизации\n",
    "def test_optimizer(optimizer, A, b, sigma, m=None):\n",
    "    start_time = time.time()\n",
    "    result = minimize(objective_function, np.zeros(A.shape[1]), args=(A, b, sigma), method=optimizer, options={'maxiter': 100, 'disp': True})\n",
    "    end_time = time.time()\n",
    "    \n",
    "    print(f\"\\nOptimizer: {optimizer}\")\n",
    "    print(f\"Iterations: {result.nit}\")\n",
    "    print(f\"Time: {end_time - start_time:.4f} seconds\")\n",
    "    print(f\"Final objective value: {result.fun}\")\n",
    "    \n",
    "# Тестирование методов\n",
    "optimizers = ['BFGS', 'L-BFGS-B', 'CG', 'trust-constr']\n",
    "for optimizer in optimizers:\n",
    "    test_optimizer(optimizer, A, b, sigma)\n"
   ]
  },
  {
   "cell_type": "code",
   "execution_count": 45,
   "metadata": {},
   "outputs": [
    {
     "name": "stdout",
     "output_type": "stream",
     "text": [
      "Optimization terminated successfully.\n",
      "         Current function value: 6.950264\n",
      "         Iterations: 69\n",
      "         Function evaluations: 70070\n",
      "         Gradient evaluations: 70\n",
      "\n",
      "Optimizer: BFGS\n",
      "Iterations: 69\n",
      "Time: 50.2296 seconds\n",
      "Final objective value: 6.9502642714072955\n"
     ]
    },
    {
     "data": {
      "image/png": "[encoded data removed]",
      "text/plain": [
       "<Figure size 576x432 with 1 Axes>"
      ]
     },
     "metadata": {
      "needs_background": "light"
     },
     "output_type": "display_data"
    },
    {
     "name": "stdout",
     "output_type": "stream",
     "text": [
      "\n",
      "Optimizer: L-BFGS-B\n",
      "Iterations: 14\n",
      "Time: 10.2563 seconds\n",
      "Final objective value: 6.97752672240067\n"
     ]
    },
    {
     "data": {
      "image/png": "[encoded data removed]",
      "text/plain": [
       "<Figure size 576x432 with 1 Axes>"
      ]
     },
     "metadata": {
      "needs_background": "light"
     },
     "output_type": "display_data"
    },
    {
     "name": "stdout",
     "output_type": "stream",
     "text": [
      "Optimization terminated successfully.\n",
      "         Current function value: 6.950264\n",
      "         Iterations: 86\n",
      "         Function evaluations: 133133\n",
      "         Gradient evaluations: 133\n",
      "\n",
      "Optimizer: CG\n",
      "Iterations: 86\n",
      "Time: 87.9440 seconds\n",
      "Final objective value: 6.950264271169052\n"
     ]
    },
    {
     "data": {
      "image/png": "[encoded data removed]",
      "text/plain": [
       "<Figure size 576x432 with 1 Axes>"
      ]
     },
     "metadata": {
      "needs_background": "light"
     },
     "output_type": "display_data"
    },
    {
     "name": "stdout",
     "output_type": "stream",
     "text": [
      "The maximum number of function evaluations is exceeded.\n",
      "Number of iterations: 100, function evaluations: 100100, CG iterations: 491, optimality: 3.58e-07, constraint violation: 0.00e+00, execution time: 6.6e+01 s.\n",
      "\n",
      "Optimizer: trust-constr\n",
      "Iterations: 100\n",
      "Time: 67.1568 seconds\n",
      "Final objective value: 6.950264263648734\n"
     ]
    },
    {
     "data": {
      "image/png": "[encoded data removed]",
      "text/plain": [
       "<Figure size 576x432 with 1 Axes>"
      ]
     },
     "metadata": {
      "needs_background": "light"
     },
     "output_type": "display_data"
    }
   ],
   "source": [
    "from scipy.optimize import minimize\n",
    "import time\n",
    "import numpy as np\n",
    "import matplotlib.pyplot as plt\n",
    "\n",
    "# Загрузка данных\n",
    "A = np.load('A.npy')\n",
    "b = np.load('b.npy')\n",
    "sigma = 1e-2\n",
    "\n",
    "# Функция для тестирования методов оптимизации\n",
    "def test_optimizer(optimizer, A, b, sigma, m=None):\n",
    "    start_time = time.time()\n",
    "    result = minimize(objective_function, np.zeros(A.shape[1]), args=(A, b, sigma), method=optimizer, options={'maxiter': 100, 'disp': True})\n",
    "    end_time = time.time()\n",
    "    \n",
    "    print(f\"\\nOptimizer: {optimizer}\")\n",
    "    print(f\"Iterations: {result.nit}\")\n",
    "    print(f\"Time: {end_time - start_time:.4f} seconds\")\n",
    "    print(f\"Final objective value: {result.fun}\")\n",
    "\n",
    "    # Построение графика сходимости\n",
    "    plt.figure(figsize=(8, 6))\n",
    "    plt.plot(result['fun'], label='Objective Value')\n",
    "    plt.title(f'Convergence Plot - {optimizer}')\n",
    "    plt.xlabel('Iteration')\n",
    "    plt.ylabel('Objective Value')\n",
    "    plt.legend()\n",
    "    plt.show()\n",
    "\n",
    "# Тестирование методов\n",
    "optimizers = ['BFGS', 'L-BFGS-B', 'CG', 'trust-constr']\n",
    "for optimizer in optimizers:\n",
    "    test_optimizer(optimizer, A, b, sigma)\n"
   ]
  },
  {
   "cell_type": "code",
   "execution_count": 46,
   "metadata": {},
   "outputs": [
    {
     "name": "stdout",
     "output_type": "stream",
     "text": [
      "Optimization terminated successfully.\n",
      "         Current function value: 6.950264\n",
      "         Iterations: 69\n",
      "         Function evaluations: 70070\n",
      "         Gradient evaluations: 70\n",
      "\n",
      "Optimizer: BFGS\n",
      "Iterations: 69\n",
      "Time: 51.1066 seconds\n",
      "Final objective value: 6.9502642714072955\n"
     ]
    },
    {
     "data": {
      "image/png": "[encoded data removed]",
      "text/plain": [
       "<Figure size 576x432 with 1 Axes>"
      ]
     },
     "metadata": {
      "needs_background": "light"
     },
     "output_type": "display_data"
    },
    {
     "name": "stdout",
     "output_type": "stream",
     "text": [
      "\n",
      "Optimizer: L-BFGS-B\n",
      "Iterations: 14\n",
      "Time: 10.4288 seconds\n",
      "Final objective value: 6.97752672240067\n"
     ]
    },
    {
     "data": {
      "image/png": "[encoded data removed]",
      "text/plain": [
       "<Figure size 576x432 with 1 Axes>"
      ]
     },
     "metadata": {
      "needs_background": "light"
     },
     "output_type": "display_data"
    },
    {
     "name": "stdout",
     "output_type": "stream",
     "text": [
      "Optimization terminated successfully.\n",
      "         Current function value: 6.950264\n",
      "         Iterations: 86\n",
      "         Function evaluations: 133133\n",
      "         Gradient evaluations: 133\n",
      "\n",
      "Optimizer: CG\n",
      "Iterations: 86\n",
      "Time: 88.7998 seconds\n",
      "Final objective value: 6.950264271169052\n"
     ]
    },
    {
     "data": {
      "image/png": "[encoded data removed]",
      "text/plain": [
       "<Figure size 576x432 with 1 Axes>"
      ]
     },
     "metadata": {
      "needs_background": "light"
     },
     "output_type": "display_data"
    },
    {
     "name": "stdout",
     "output_type": "stream",
     "text": [
      "The maximum number of function evaluations is exceeded.\n",
      "Number of iterations: 100, function evaluations: 100100, CG iterations: 491, optimality: 3.58e-07, constraint violation: 0.00e+00, execution time: 8.1e+01 s.\n",
      "\n",
      "Optimizer: trust-constr\n",
      "Iterations: 100\n",
      "Time: 81.6199 seconds\n",
      "Final objective value: 6.950264263648734\n"
     ]
    },
    {
     "data": {
      "image/png": "[encoded data removed]",
      "text/plain": [
       "<Figure size 576x432 with 1 Axes>"
      ]
     },
     "metadata": {
      "needs_background": "light"
     },
     "output_type": "display_data"
    }
   ],
   "source": [
    "from scipy.optimize import minimize\n",
    "import time\n",
    "import numpy as np\n",
    "import matplotlib.pyplot as plt\n",
    "\n",
    "# Загрузка данных\n",
    "A = np.load('A.npy')\n",
    "b = np.load('b.npy')\n",
    "sigma = 1e-2\n",
    "\n",
    "# Функция для тестирования методов оптимизации\n",
    "def objective_function(x, A, b, sigma):\n",
    "    inner_product = A.dot(x) - b\n",
    "    exp_term = np.exp(inner_product)\n",
    "    logsumexp = np.log(np.sum(exp_term))\n",
    "    regularization_term = 0.5 * sigma * np.linalg.norm(x)**2\n",
    "    return logsumexp + regularization_term\n",
    "\n",
    "def test_optimizer(optimizer, A, b, sigma, m=None):\n",
    "    start_time = time.time()\n",
    "    \n",
    "    result = minimize(objective_function, np.zeros(A.shape[1]), args=(A, b, sigma), method=optimizer, options={'maxiter': 100, 'disp': True})\n",
    "    \n",
    "    end_time = time.time()\n",
    "    \n",
    "    print(f\"\\nOptimizer: {optimizer}\")\n",
    "    print(f\"Iterations: {result.nit}\")\n",
    "    print(f\"Time: {end_time - start_time:.4f} seconds\")\n",
    "    print(f\"Final objective value: {result.fun}\")\n",
    "\n",
    "    # Построение графика сходимости\n",
    "    plt.figure(figsize=(8, 6))\n",
    "    plt.plot(result['nit'], result['fun'], label='Objective Value')\n",
    "    plt.title(f'Convergence Plot - {optimizer}')\n",
    "    plt.xlabel('Iteration')\n",
    "    plt.ylabel('Objective Value')\n",
    "    plt.legend()\n",
    "    plt.show()\n",
    "\n",
    "# Тестирование методов\n",
    "optimizers = ['BFGS', 'L-BFGS-B', 'CG', 'trust-constr']\n",
    "for optimizer in optimizers:\n",
    "    test_optimizer(optimizer, A, b, sigma)\n"
   ]
  },
  {
   "cell_type": "code",
   "execution_count": null,
   "metadata": {},
   "outputs": [],
   "source": []
  }
 ],
 "metadata": {
  "colab": {
   "provenance": []
  },
  "kernelspec": {
   "display_name": "Python 3 (ipykernel)",
   "language": "python",
   "name": "python3"
  },
  "language_info": {
   "codemirror_mode": {
    "name": "ipython",
    "version": 3
   },
   "file_extension": ".py",
   "mimetype": "text/x-python",
   "name": "python",
   "nbconvert_exporter": "python",
   "pygments_lexer": "ipython3",
   "version": "3.9.7"
  }
 },
 "nbformat": 4,
 "nbformat_minor": 1
}
