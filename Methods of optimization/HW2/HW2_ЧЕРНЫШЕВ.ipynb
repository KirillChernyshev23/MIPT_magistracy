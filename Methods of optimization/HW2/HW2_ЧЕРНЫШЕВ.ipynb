{
 "cells": [
  {
   "cell_type": "markdown",
   "metadata": {
    "id": "XZUB06NchrQh"
   },
   "source": [
    "# Домашнее задание 2\n",
    "\n",
    "__Дедлайн: 1.11.2023, 23:59__\n",
    "\n",
    "Файлы должны иметь имя HW1_ФАМИЛИЯ.ipynb, где ФАМИЛИЯ - Ваша фамилия русскими буквами.\n",
    "\n",
    "Решение каждой задачи необходимо поместить после её условия.\n",
    "\n",
    "Пожалуйста, пишите свои решения чётко и понятно.\n",
    "При полном запуске Вашего решения (Kernel -> Restart & Run All) все ячейки должны выполняться **без ошибок**."
   ]
  },
  {
   "cell_type": "markdown",
   "metadata": {
    "id": "_56rp78fhrQn"
   },
   "source": [
    "Во всех задачах, где требуется сравнить методы, требуется аккуратное офрмление графиков, если Вы их будете строить, и комментарии к графикам (кто кого быстрее и когда сходится, какие интересные моменты Вы видите на графиках, как Вы их можете объяснить). Аналогично, требуются комментарии в случае, если Вы сравниваете время работы.\n",
    "\n",
    "Суммарное количество баллов: 16"
   ]
  },
  {
   "cell_type": "code",
   "execution_count": 10,
   "metadata": {
    "id": "vfORmvbWhrQp"
   },
   "outputs": [],
   "source": [
    "import numpy as np\n",
    "import cvxpy as cvx\n",
    "from scipy.sparse.linalg import cg\n",
    "from scipy.sparse.linalg import LinearOperator\n",
    "import matplotlib.pyplot as plt\n",
    "#import jax\n",
    "#jax.config.update(\"jax_enable_x64\", True)\n",
    "\n",
    "%matplotlib inline"
   ]
  },
  {
   "cell_type": "markdown",
   "metadata": {
    "id": "EgvHKj90hrQr"
   },
   "source": [
    "## Задача 1. Tensor Factorization [8]\n",
    "\n",
    "\n",
    "В данной задаче Вам предлагается познакомиться с примером использользования CVXPY для решения выпуклых задач, а также идеей альтернированной оптимизации (alternating optimization), также называемой в попеременной оптимизации.\n",
    "\n",
    "\n",
    "Хорошо известна задача матричной факторизации, цель которой представить матрицу $X \\in \\mathbb{R}^{m\\times n}$ в виде произведения двух (или более) матриц $U\\in \\mathbb{R}^{m \\times r}$ и $V\\in\\mathbb{R}^{r\\times n}$, таким образом чтобы $X\\approx UV$ и $r\\ll \\min\\{m,n\\}$. В некоторых случаях эта задача может быть просто решена. В частности, если искать такие матрицы $U$ и $V$, которые минимизируют $\\|X-UV\\|^2_F$, то решение может быть явно найдено через разложение SVD. Если $n,m$ большие, то такое разложение позволяет существенно уменьшить размер памяти для хранения (вместо $nm$ чисел храним $(n+m)r$) и ускорить вычисление произведение матрицы на вектор.\n",
    "\n",
    "Существенно более сложной задачей является представление тензора в виде произведения тензоров. Пусть тензор $T\\in \\mathbb{R}^{N\\times M \\times K}$. Тогда задачей факторизацией тензора $T$ является поиск матриц $X\\in \\mathbb{R}^{N\\times R},Y\\in \\mathbb{R}^{M\\times R},Z\\in \\mathbb{R}^{K\\times R}$, таких что $T\\approx \\sum\\limits_{r=1}^R x_r \\circ y_r \\circ z_r$ и $R\\ll \\min(N,M,K)$, где $x_r, y_r, z_r$ - стобцы матриц $X, Y, Z$ и $x_r \\circ y_r \\circ z_r$ есть тензор размерности $N\\times M \\times K$ с элементами $(x_r \\circ y_r \\circ z_r)(i,j,k)=x_{ir} y_{jr} z_{kr}.$ Заметим, что такое представление позволит хранить нам $(N+M+K)R$ чисел вместо $NMK$. На данный момент задача факторизации может быть записана в следующем виде:\n",
    "\n",
    "\n",
    "\\begin{align*}\n",
    "\\label{1}\n",
    "& \\min_{X\\in \\mathbb{R}^{N\\times R},Y\\in \\mathbb{R}^{M\\times R},Z\\in \\mathbb{R}^{K\\times R}} \\sum\\limits_{i,j,k=1}^{N, M,K} \\left(T_{ijk} - \\sum\\limits_{r=1}^R x_{ir} y_{jr} z_{kr}\\right)^2 \\\\\n",
    "\\end{align*}\n",
    "\n",
    "Однако мы будем искать разреженные матрицы $X,Y,Z$. Для этого к задаче выше добавим поэлементный $\\ell_1$ регуляриатор на каждую из матриц:\n",
    "\\begin{align*}\n",
    "\\label{2}\n",
    "& \\min_{X\\in \\mathbb{R}^{N\\times R},Y\\in \\mathbb{R}^{M\\times R},Z\\in \\mathbb{R}^{K\\times R}} \\frac{1}{\\|T\\|^2}\\sum\\limits_{i,j,k=1}^{N, M,K} \\left(T_{ijk} - \\sum\\limits_{r=1}^R x_{ir} y_{jr} z_{kr}\\right)^2 + \\frac{\\lambda}{NR}\\|X\\|_1 + \\frac{\\lambda}{MR}\\|Y\\|_1 + \\frac{\\lambda}{KR}\\|Z\\|_1 \\\\\n",
    "\\end{align*}\n",
    "\n",
    "где $\\|X\\|_1=\\sum |x_{ij}|$, $\\|T\\|^2 = \\sum T_{ijk}^2$. Чем больше $R$ и чем меньше $\\lambda>0$, тем точнее приближение, но и тем меньше выигрыш от такого разложения.\n",
    "\n",
    "Такую задачу можно решать с помощью CVXPy, если воспользоваться идеей попеременной оптимизации (alternating optimization). Идея альтернированной оптимизиции состоит в том, чтобы при решении задачи $\\min_{\\mathbf{x}_j\\in X_j} f(\\mathbf{x}_1\\dots \\mathbf{x}_N)$ на каждой итерации решить $N$ задач оптимизации последовательно по каждому из блоков переменных при зафиксированных остальных.\n",
    "\n",
    "Применяя эту идею к нашей задаче получим метод, в котором на каждой итерации сначала решается задача по $X$ при фиксированных $Y$ и $Z$, затем по $Y$ при фиксированных остальных переменных и, наконец, по $Z$ при фиксированных $X,Y$."
   ]
  },
  {
   "cell_type": "markdown",
   "metadata": {
    "id": "MJ5l3cKHhrQt"
   },
   "source": [
    "**Задачи**\n",
    "\n",
    "1) Опишите эту задачу. Является она выпуклой или нет? Существует ли у нее решение? Если существует, то единственное ли оно?\n",
    "\n",
    "2) Реализуйте с помощью CVXPY идею поперменной оптимизации для этой задачи. Поставьте ограничение на максимальное число итераций `max_iters=10000`.\n",
    "\n",
    "3) Настройте ваш метод для малого примера приведённо ниже\n",
    "\n",
    "4) Далее мы переходим к тестам на достаточно большом тензоре из файла `tensor.npy`. Загрузите данный тензор. Возьмите $R=4$ и $\\lambda = 0.01$. Постройте график сходимости метода от итерации (убедитесь, что значение функции вышло на плато). Являются ли получившиеся решения разреженными?\n",
    "\n",
    "5) При фиксированном $\\lambda$ постройте график зависимости качества аппроксимации от $R$. Что можете сказать о балансе между точностью аппроксимации и её сложностью?\n",
    "\n",
    "6) При фиксированном $R$ постройте графики зависимости разреженности факторов $X,Y,Z$ и качества аппроксимации от $\\lambda$. Сделайте выводы."
   ]
  },
  {
   "cell_type": "markdown",
   "metadata": {},
   "source": [
    "Задача выпуклая, но решение не единстенно, если учитывать то, что мы последовательно решаем несколько задач оптимизации, фиксируя какие-то компоненты."
   ]
  },
  {
   "cell_type": "markdown",
   "metadata": {
    "id": "sy-Rry3shrQt"
   },
   "source": [
    "### Решение задачи 1:"
   ]
  },
  {
   "cell_type": "markdown",
   "metadata": {
    "id": "rKqnfu5PhrQu"
   },
   "source": [
    "Реализуем класс, который делает тензорную факторизации при помощи альтернированной оптимизации. В данном классе Вам нужно будет написать методы `argminX`, `argminY` и `argminZ`, которые решают нужные задачи оптимищации на каждой итерации, а также функцию `factorization_error`, которая возвращает ошибку аппроксимации (без учета регуляризаторов)."
   ]
  },
  {
   "cell_type": "code",
   "execution_count": 5,
   "metadata": {
    "id": "WhQjdLXghrQv"
   },
   "outputs": [],
   "source": [
    "class TensorFactorization:\n",
    "    def __init__(self, num_iters=1000, dim_factorization=10, regularization_parameter=0.1):\n",
    "        \"\"\"\n",
    "        :param num_iters: int, iterations number for TensorFactorization\n",
    "        :param dim_factorization: int, internal dimension of factorization (the parameter R above)\n",
    "        :param regularization_parameter: float, parameter of regularization\n",
    "        \"\"\"\n",
    "        self.dim_factorization = dim_factorization\n",
    "        self.num_iters = num_iters\n",
    "        self.regularization_parameter = regularization_parameter\n",
    "        self.X = None\n",
    "        self.Y = None\n",
    "        self.Z = None\n",
    "\n",
    "    def solve(self, tensor, X=None, Y=None, Z=None, print_logs=False):\n",
    "        \"\"\"\n",
    "        :param tensor: np.array, tensor that should be factorized\n",
    "        :param X, Y, Z: np.array or None, start point for factorization\n",
    "        :param print_logs: bool, if True it prints results of optimization on each iteration\n",
    "        :return: history of optimization\n",
    "        \"\"\"\n",
    "        assert len(tensor.shape)==3, \"Wrong tensor dimension\"\n",
    "        if X is None:\n",
    "            self.X = np.random.rand(tensor.shape[0], self.dim_factorization)\n",
    "        if Y is None:\n",
    "            self.Y = np.random.rand(tensor.shape[1], self.dim_factorization)\n",
    "        if Y is None:\n",
    "            self.Z = np.random.rand(tensor.shape[2], self.dim_factorization)\n",
    "        history = [self.factorization_error(tensor, self.X, self.Y, self.Z)]\n",
    "        if print_logs:\n",
    "            print(\"Iter\\t|\\tLoss\")\n",
    "        for i in range(self.num_iters):\n",
    "            self._update(tensor)\n",
    "            history.append(self.factorization_error(tensor, self.X, self.Y, self.Z))\n",
    "            if print_logs:\n",
    "                print(\"{}\\t|\\t{:.4f}\".format(i + 1, history[-1]))\n",
    "        return history\n",
    "\n",
    "    def _update(self, tensor):\n",
    "        \"\"\"\n",
    "        :param tensor: np.array, tensor that should be factorized\n",
    "        \"\"\"\n",
    "        self.X = self.argminX(tensor)\n",
    "        self.Y = self.argminY(tensor)\n",
    "        self.Z = self.argminZ(tensor)\n",
    "\n",
    "    @staticmethod\n",
    "    def factorization_error(tensor, X, Y, Z):\n",
    "        \"\"\"\n",
    "        :param tensor: np.array, tensor that should be factorized\n",
    "        :param X, Y, Z: np.array or None, factors\n",
    "        :return: norm of residual 1/||T||^2 * \\sum_{i,j,k=1}^{N, M, K}(T_{ijk} - \\sum_{r=1}^R x_{ir} y_{ir} z_{ir})^2\n",
    "        \"\"\"\n",
    "        # YOUR CODE HERE\n",
    "        tensor_norm = np.sum(tensor**2)\n",
    "        sum_of_squares = 0\n",
    "        for i in range(N):\n",
    "            for j in range(M):\n",
    "                for k in range(K):\n",
    "                    inner_sum = 0\n",
    "                    for r in range(R):\n",
    "                        inner_sum += X[i, r] * Y[j, r] * Z[k, r]\n",
    "                    sum_of_squares += (tensor[i, j, k] - inner_sum) ** 2\n",
    "        \n",
    "            \n",
    "        return sum_of_squares/tensor_norm\n",
    "\n",
    "\n",
    "    def argminX(self, tensor):\n",
    "        \"\"\"\n",
    "        :param tensor: np.array, tensor that should be factorized\n",
    "        :return: factor X\n",
    "        \"\"\"\n",
    "        # YOUR CODE HERE\n",
    "        N = tensor.shape[0]\n",
    "        M = tensor.shape[1]\n",
    "        K = tensor.shape[2]\n",
    "\n",
    "        X = cvx.Variable((N, self.dim_factorization))\n",
    "        main_sum = cvx.sum(cvx.sum([(tensor[:, :, i] - (X @ cvx.diag(self.Z[i, :])) @ self.Y.T)**2 for i in range(K)]))\n",
    "        add_sum = self.regularization_parameter * cvx.norm(self.Y, 1) / np.prod(Y.shape) +\\\n",
    "                  self.regularization_parameter * cvx.norm(self.Z, 1) / np.prod(Z.shape) +\\\n",
    "                  self.regularization_parameter * cvx.norm(X, 1) / np.prod(X.shape)\n",
    "        obj = main_sum / np.sum(tensor**2) + add_sum\n",
    "        prob = cvx.Problem(cvx.Minimize(obj))\n",
    "        prob.solve()\n",
    "        return X.value\n",
    "        pass\n",
    "\n",
    "\n",
    "\n",
    "\n",
    "    def argminY(self, tensor):\n",
    "        \"\"\"\n",
    "        :param tensor: np.array, tensor that should be factorized\n",
    "        :return: factor Y\n",
    "        \"\"\"\n",
    "        # YOUR CODE HERE\n",
    "        N = tensor.shape[0]\n",
    "        M = tensor.shape[1]\n",
    "        K = tensor.shape[2]\n",
    "\n",
    "        Y = cvx.Variable((M, self.dim_factorization))\n",
    "        main_sum = cvx.sum(cvx.sum([(tensor[:, :, i] - self.X @ (Y @ cvx.diag(self.Z[i, :])).T)**2 for i in range(K)]))\n",
    "        add_sum = self.regularization_parameter * cvx.norm(self.X, 1) / np.prod(X.shape) +\\\n",
    "                  self.regularization_parameter * cvx.norm(self.Z, 1) / np.prod(Z.shape) +\\\n",
    "                  self.regularization_parameter * cvx.norm(Y, 1) / np.prod(Y.shape)\n",
    "        obj = main_sum / np.sum(tensor**2) + add_sum\n",
    "        prob = cvx.Problem(cvx.Minimize(obj))\n",
    "        prob.solve()\n",
    "        return Y.value\n",
    "        pass\n",
    "\n",
    "       \n",
    "\n",
    "    def argminZ(self, tensor):\n",
    "        \"\"\"\n",
    "        :param tensor: np.array, tensor that should be factorized\n",
    "        :return: factor Z\n",
    "        \"\"\"\n",
    "        # YOUR CODE HERE\n",
    "        N = tensor.shape[0]\n",
    "        M = tensor.shape[1]\n",
    "        K = tensor.shape[2]\n",
    "\n",
    "        Z = cvx.Variable((K, self.dim_factorization))\n",
    "        tensor_norm = np.sum(tensor ** 2)\n",
    "        main_sum = cvx.sum(cvx.sum([(tensor[i, :, :] - self.Y @ (Z @ cvx.diag(self.X[i, :])).T)**2 for i in range(N)]))\n",
    "        add_sum = self.regularization_parameter * cvx.norm(self.X, 1) / np.prod(X.shape) +\\\n",
    "                  self.regularization_parameter * cvx.norm(self.Y, 1) / np.prod(Y.shape) +\\\n",
    "                  self.regularization_parameter * cvx.norm(Z, 1) / np.prod(Z.shape)\n",
    "        obj = main_sum / np.sum(tensor**2) + add_sum\n",
    "        prob = cvx.Problem(cvx.Minimize(obj))\n",
    "        prob.solve()\n",
    "        return Z.value\n",
    "        pass\n",
    "\n",
    "    def get_factors(self):\n",
    "        return self.X, self.Y, self.Z"
   ]
  },
  {
   "cell_type": "code",
   "execution_count": 6,
   "metadata": {
    "id": "kdmowfUXhrQw"
   },
   "outputs": [],
   "source": [
    "np.random.seed(13)\n",
    "N, M, K = 3, 4, 5\n",
    "R = 2\n",
    "X, Y, Z = [np.random.randn(N, R), np.random.randn(M, R), np.random.randn(K, R)]\n",
    "random_tensor = np.random.randn(N, M, K)\n",
    "assert np.abs(TensorFactorization.factorization_error(random_tensor, X, Y, Z) - 2.06910498) <= 1e-8, \"Wrong implementation of `factorization_error`\"\n",
    "\n",
    "test_tensor = [[[(X[i,:] * Y[j, :] * Z[k, :]).sum() for k in range(K)] for j in range(M)] for i in range(N)]\n",
    "test_tensor = np.array(test_tensor)\n",
    "\n",
    "method = TensorFactorization(num_iters=10, dim_factorization=2, regularization_parameter=0)\n",
    "test_history = method.solve(test_tensor)\n",
    "assert test_history[-1] <= 1e-13, \"Wrong solution\""
   ]
  },
  {
   "cell_type": "code",
   "execution_count": 8,
   "metadata": {
    "id": "UQbXG-fmhrQy"
   },
   "outputs": [
    {
     "name": "stdout",
     "output_type": "stream",
     "text": [
      "N=(3, 4), M=(4, 4), K=(5, 4)\n"
     ]
    }
   ],
   "source": [
    "# Место для Вашего решения\n",
    "# Загрузка тензора и проверка на его примере\n",
    "tensor = np.load('tensor.npy')\n",
    "solver = TensorFactorization(num_iters=1000, dim_factorization=4, regularization_parameter=0.01)\n",
    "history = solver.solve(test_tensor)\n",
    "\n",
    "print(f\"N={solver.X.shape}, M={solver.Y.shape}, K={solver.Z.shape}\")"
   ]
  },
  {
   "cell_type": "code",
   "execution_count": 11,
   "metadata": {},
   "outputs": [
    {
     "data": {
      "image/png": "[encoded data removed]",
      "text/plain": [
       "<Figure size 720x432 with 1 Axes>"
      ]
     },
     "metadata": {
      "needs_background": "light"
     },
     "output_type": "display_data"
    },
    {
     "data": {
      "image/png": "[encoded data removed]",
      "text/plain": [
       "<Figure size 720x432 with 1 Axes>"
      ]
     },
     "metadata": {
      "needs_background": "light"
     },
     "output_type": "display_data"
    }
   ],
   "source": [
    "# график\n",
    "errors = np.array(history)\n",
    "steps = np.arange(len(errors))\n",
    "plt.figure(figsize = (10, 6))\n",
    "plt.plot(steps, errors)\n",
    "plt.ylabel('Error')\n",
    "plt.xlabel('step')\n",
    "plt.grid()\n",
    "\n",
    "errors = np.array(history)\n",
    "steps = np.arange(len(errors))\n",
    "plt.figure(figsize = (10, 6))\n",
    "plt.plot(steps, np.log(errors))\n",
    "plt.ylabel('log(Error)')\n",
    "plt.xlabel('step')\n",
    "plt.grid()"
   ]
  },
  {
   "cell_type": "markdown",
   "metadata": {},
   "source": [
    "Как видно, график выходит на плато при ~600 иттерациях."
   ]
  },
  {
   "cell_type": "markdown",
   "metadata": {
    "id": "AEcLiTdjhrQz"
   },
   "source": [
    "## Задача 2. More Jacobian for the Jacobian God [8]\n",
    "\n",
    "\n",
    "В ряде задач нам важно уметь эффективно находить решение следующей системы уравнений:\n",
    "\n",
    "$$(J_f^\\top J_f + \\delta I) h = g$$\n",
    "где $g$ - некоторый известный вектор, $J_f \\in \\mathbb{R}^{m\\times n}$ - якобиан некоторой функции $f:\\mathbb{R}^n \\rightarrow \\mathbb{R}^m$ в некоторой точке $x$, $\\delta>0$ - параметр регуляризации, $h$ - искомый вектор.\n",
    "\n",
    "\n",
    "Задача выше эквивалентна решению задачи оптимизации:\n",
    "$$\\min_{h\\in\\mathbb{R}^n} \\frac{1}{2} h^\\top A h - g^\\top h,$$\n",
    "где $A=J_f^\\top J_f + \\delta I.$\n",
    "\n",
    "В этом задании Вам предлагается сравнить два способа решения СЛАУ с якобианами:\n",
    "\n",
    "1) Явно сформировать матрицу $A$ и решить систему линейных уравнений при помощи какого-либо разложения\n",
    "\n",
    "2) Решить задачу оптимизации при помощи итеративного метода. Любой итеративный метод требует уметь только эффективно умножать матрицу на вектор, т.е. эффективно вычислять $(J_f^\\top J_f + \\delta I)$"
   ]
  },
  {
   "cell_type": "markdown",
   "metadata": {
    "id": "cuaRqmHjhrQ0"
   },
   "source": [
    "В этом задании все якобианы, а также проиведения якобиан-вектор должны быть реализованы через `jax`. Не забывайте про `jax.jit`\n",
    "\n",
    "**Задачи**\n",
    "\n",
    "1) Реализуйте первый способ. Т.е. явно сформируйте матрицу $(J_f^\\top J_f + \\delta I)$ и решите систему линейных уравнений при помощи `numpy.linalg.solve`. При формировании якобиана учтите, что в наших примерах $m\\gg n$.\n",
    "\n",
    "2) На семинаре мы уже разобрали, что $J_f^\\top z = \\nabla_x g(x, z),$ где $\\langle f(x), z\\rangle, z\\in\\mathbb{R}^m$. Пользуясь этим результатом, покажите, как найти $J_f u$ как градиент скалярной функции?\n",
    "\n",
    "3) Пользуясь функциями `jax.jvp` ($Jz$) и `jax.vjp` ($J^\\top r$), реализуйте эффективное умножение матрицы $A$ на вектор. Используйте его, чтобы решить поставленную задачу оптимизации, пользуясь методом сопряженных градиентов (тут предлагается воспользоваться готовой реализацией `jax.scipy.sparse.linalg.cg`)\n",
    "\n",
    "4) Проверьте, что два подхода дают практически один и тот же результат\n",
    "\n",
    "5) Функция `get_test_function` из файла `test_functions.py` принимает на вход размерность $n$ и возвращает некоторую диффиренцируемую функцию $f:\\mathbb{R}^n \\rightarrow \\mathbb{R}^{10n}$. Сравните по времени два подхода для различных размерностей $n$.\n",
    "\n",
    "Во всех задачах возьмите $\\delta = 10^{-5} n.$ Вектора $g$ и $x$ сгенерируйте случайным образом через `jax`"
   ]
  },
  {
   "cell_type": "markdown",
   "metadata": {
    "id": "vDISfNgqhrQ1"
   },
   "source": [
    "### Решение задачи 2:"
   ]
  },
  {
   "cell_type": "markdown",
   "metadata": {
    "id": "85evUxMchrQ1"
   },
   "source": [
    "Функция `solve_system`, которая строит явно матрицу $J_f(x)^\\top J_f(x) + \\delta I$ и решает систему при помощи `np.linalg.solve`"
   ]
  },
  {
   "cell_type": "code",
   "execution_count": null,
   "metadata": {
    "id": "fU-z3EjChrQ1"
   },
   "outputs": [],
   "source": [
    "def solve_system(vector_function, vector_x, vector_g, delta=0):\n",
    "    \"\"\"\n",
    "    :param vector_function: callable, function f described above\n",
    "    :param vector_x: np.array, the point at which Jacobian is calculated\n",
    "    :param vector_g: np.array, the right hand of linear system\n",
    "    :param delta: float, regularization parameter\n",
    "    :return: solution of system\n",
    "    \"\"\"\n",
    "    # YOUR CODE HERE\n",
    "    pass"
   ]
  },
  {
   "cell_type": "markdown",
   "metadata": {
    "id": "-rgZiuomhrQ2"
   },
   "source": [
    "Функция `solve_opt_problem` решает задачу оптимиации при помощи метода сопряженных градиентов. Оболочка, требуемая для вызова готовой функции из `scipy`, уже реализована. Для его успешной работы остаётся реализовать только  функцию `jtj_vector_product`, которая принимает на вход $f, x, \\delta$ и возвращает функцию $F(g) = (J_f(x)^\\top J_f(x) + \\delta I) g$ (не само значение функции $F$, а именно лямбда-функцию, которая реализует $F$)."
   ]
  },
  {
   "cell_type": "code",
   "execution_count": null,
   "metadata": {
    "id": "ts6w8gBvhrQ2"
   },
   "outputs": [],
   "source": [
    "import jax\n",
    "def solve_opt_problem(vector_function, vector_x, vector_g, delta=0, tol=1e-8):\n",
    "    \"\"\"\n",
    "    :param vector_function: callable, function f described above\n",
    "    :param vector_x: np.array, the point at which jacobian is calculated\n",
    "    :param vector_g: np.array, the right hand of linear system\n",
    "    :param delta: float, regularization parameter\n",
    "    :param tol: float, tolerance\n",
    "    :return: solution of optimization problem\n",
    "    \"\"\"\n",
    "    Ax = jtj_vector_product(vector_function, vector_x, delta=delta)\n",
    "    sol, _ = jax.scipy.sparse.linalg.cg(Ax, vector_g, tol=tol)\n",
    "    return sol\n",
    "\n",
    "\n",
    "def jtj_vector_product(vector_function, vector_x, delta=0):\n",
    "    \"\"\"\n",
    "    Jacobiant-Transposed-Jacobian Vector Product\n",
    "    :param vector_function: callable, function f described above\n",
    "    :param vector_x: np.array, the point at which jacobian is calculated\n",
    "    :param vector_g: np.array, the right hand of linear system\n",
    "    :param delta: float, regularization parameter\n",
    "    :return: callable, function that returns (J_f(x)^T J_f(x) + delta I) g without explicit matrix construction\n",
    "    \"\"\"\n",
    "    # YOUR CODE HERE\n",
    "    pass\n",
    "\n"
   ]
  },
  {
   "cell_type": "code",
   "execution_count": null,
   "metadata": {
    "id": "gXBXbYvChrQ9",
    "outputId": "6f071f7d-b4f9-4d0b-f9f0-29253bfd58a8",
    "scrolled": false
   },
   "outputs": [
    {
     "name": "stdout",
     "output_type": "stream",
     "text": [
      "0.0001\n"
     ]
    }
   ],
   "source": [
    "n = 10\n",
    "delta =  1e-5 * n\n",
    "np.random.seed(1)\n",
    "key = jax.random.PRNGKey(42)\n",
    "vector_x = jax.random.normal(key, (n,))\n",
    "vector_g = jax.random.normal(key, (n,))"
   ]
  },
  {
   "cell_type": "code",
   "execution_count": null,
   "metadata": {
    "id": "FF38GvhThrQ-"
   },
   "outputs": [],
   "source": [
    "# Место для Вашего решения"
   ]
  }
 ],
 "metadata": {
  "colab": {
   "provenance": []
  },
  "kernelspec": {
   "display_name": "Python 3 (ipykernel)",
   "language": "python",
   "name": "python3"
  },
  "language_info": {
   "codemirror_mode": {
    "name": "ipython",
    "version": 3
   },
   "file_extension": ".py",
   "mimetype": "text/x-python",
   "name": "python",
   "nbconvert_exporter": "python",
   "pygments_lexer": "ipython3",
   "version": "3.9.7"
  }
 },
 "nbformat": 4,
 "nbformat_minor": 1
}
