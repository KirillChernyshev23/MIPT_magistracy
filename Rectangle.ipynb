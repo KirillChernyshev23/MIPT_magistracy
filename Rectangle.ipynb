{
 "cells": [
  {
   "cell_type": "code",
   "execution_count": 4,
   "id": "1ac73bd9",
   "metadata": {},
   "outputs": [
    {
     "name": "stdout",
     "output_type": "stream",
     "text": [
      "Area: 8\n",
      "Perimeter: 12\n",
      "String Representation: Rectangle;Left-Bottom:(12, 12);Right-Up:(14, 16);None;None\n"
     ]
    },
    {
     "data": {
      "image/png": "[encoded data removed]",
      "text/plain": [
       "<Figure size 432x288 with 1 Axes>"
      ]
     },
     "metadata": {
      "needs_background": "light"
     },
     "output_type": "display_data"
    }
   ],
   "source": [
    "import matplotlib.pyplot as plt\n",
    "import numpy as np\n",
    "\n",
    "class Rectangle:\n",
    "    def __init__(self, left_bottom, right_up):\n",
    "        self.left_bottom = left_bottom\n",
    "        self.right_up = right_up\n",
    "\n",
    "    def area(self):\n",
    "        width = self.right_up[0] - self.left_bottom[0]\n",
    "        height = self.right_up[1] - self.left_bottom[1]\n",
    "        return width * height\n",
    "\n",
    "    def perimeter(self):\n",
    "        width = self.right_up[0] - self.left_bottom[0]\n",
    "        height = self.right_up[1] - self.left_bottom[1]\n",
    "        return 2 * (width + height)\n",
    "\n",
    "    def __str__(self):\n",
    "        return f\"Rectangle;Left-Bottom:{self.left_bottom};Right-Up:{self.right_up};None;None\"\n",
    "\n",
    "    def graphFigure(self):\n",
    "        x = [self.left_bottom[0], self.right_up[0], self.right_up[0], self.left_bottom[0], self.left_bottom[0]]\n",
    "        y = [self.left_bottom[1], self.left_bottom[1], self.right_up[1], self.right_up[1], self.left_bottom[1]]\n",
    "\n",
    "        plt.figure()\n",
    "        plt.plot(x, y, label='Rectangle', marker='o')\n",
    "        plt.title('Rectangle')\n",
    "        plt.xlabel('X-axis')\n",
    "        plt.ylabel('Y-axis')\n",
    "        plt.legend()\n",
    "        plt.grid(True)\n",
    "        plt.show()\n",
    "        \n",
    "    @classmethod\n",
    "    def constructFromSeries(cls, series):\n",
    "        left_bottom = tuple(map(float, series[1].split(':')))\n",
    "        right_up = tuple(map(float, series[2].split(':')))\n",
    "        return cls(left_bottom, right_up)\n",
    "\n",
    "\"\"\"    \n",
    "# Пример использования:\n",
    "left_bottom_rectangle = (12, 12)\n",
    "right_up_rectangle = (14, 16)\n",
    "\n",
    "rectangle = Rectangle(left_bottom_rectangle, right_up_rectangle)\n",
    "print(f\"Area: {rectangle.area()}\")\n",
    "print(f\"Perimeter: {rectangle.perimeter()}\")\n",
    "print(f\"String Representation: {rectangle}\")\n",
    "rectangle.graphFigure()\n",
    "\"\"\""
   ]
  },
  {
   "cell_type": "code",
   "execution_count": null,
   "id": "dff8fa5a",
   "metadata": {},
   "outputs": [],
   "source": []
  }
 ],
 "metadata": {
  "kernelspec": {
   "display_name": "Python 3 (ipykernel)",
   "language": "python",
   "name": "python3"
  },
  "language_info": {
   "codemirror_mode": {
    "name": "ipython",
    "version": 3
   },
   "file_extension": ".py",
   "mimetype": "text/x-python",
   "name": "python",
   "nbconvert_exporter": "python",
   "pygments_lexer": "ipython3",
   "version": "3.9.7"
  }
 },
 "nbformat": 4,
 "nbformat_minor": 5
}
