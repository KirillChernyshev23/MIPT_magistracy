{
 "cells": [
  {
   "cell_type": "code",
   "execution_count": 3,
   "id": "97b979d6",
   "metadata": {},
   "outputs": [
    {
     "name": "stdout",
     "output_type": "stream",
     "text": [
      "Area: 20.25\n",
      "Perimeter: 18.0\n",
      "String Representation: Square;Left-Bottom:(9, 17);Side-Length:4.5;None;None\n"
     ]
    },
    {
     "data": {
      "image/png": "[encoded data removed]",
      "text/plain": [
       "<Figure size 432x288 with 1 Axes>"
      ]
     },
     "metadata": {
      "needs_background": "light"
     },
     "output_type": "display_data"
    }
   ],
   "source": [
    "import matplotlib.pyplot as plt\n",
    "import numpy as np\n",
    "\n",
    "class Square:\n",
    "    def __init__(self, left_bottom, side_length):\n",
    "        self.left_bottom = left_bottom\n",
    "        self.side_length = side_length\n",
    "\n",
    "    def area(self):\n",
    "        return self.side_length**2\n",
    "\n",
    "    def perimeter(self):\n",
    "        return 4 * self.side_length\n",
    "\n",
    "    def __str__(self):\n",
    "        return f\"Square;Left-Bottom:{self.left_bottom};Side-Length:{self.side_length};None;None\"\n",
    "\n",
    "    def graphFigure(self):\n",
    "        x = [self.left_bottom[0], self.left_bottom[0] + self.side_length, \n",
    "             self.left_bottom[0] + self.side_length, self.left_bottom[0], self.left_bottom[0]]\n",
    "        y = [self.left_bottom[1], self.left_bottom[1], \n",
    "             self.left_bottom[1] + self.side_length, self.left_bottom[1] + self.side_length, self.left_bottom[1]]\n",
    "\n",
    "        plt.figure()\n",
    "        plt.plot(x, y, label='Square', marker='o')\n",
    "        plt.title('Square')\n",
    "        plt.xlabel('X-axis')\n",
    "        plt.ylabel('Y-axis')\n",
    "        plt.legend()\n",
    "        plt.grid(True)\n",
    "        plt.axis('equal')\n",
    "        plt.show()\n",
    "\n",
    "\"\"\"\n",
    "# Пример использования:\n",
    "left_bottom_square = (9, 17)\n",
    "side_length_square = 4.5\n",
    "\n",
    "square = Square(left_bottom_square, side_length_square)\n",
    "print(f\"Area: {square.area()}\")\n",
    "print(f\"Perimeter: {square.perimeter()}\")\n",
    "print(f\"String Representation: {square}\")\n",
    "square.graphFigure()\n",
    "\"\"\""
   ]
  },
  {
   "cell_type": "code",
   "execution_count": null,
   "id": "ccefdc17",
   "metadata": {},
   "outputs": [],
   "source": []
  }
 ],
 "metadata": {
  "kernelspec": {
   "display_name": "Python 3 (ipykernel)",
   "language": "python",
   "name": "python3"
  },
  "language_info": {
   "codemirror_mode": {
    "name": "ipython",
    "version": 3
   },
   "file_extension": ".py",
   "mimetype": "text/x-python",
   "name": "python",
   "nbconvert_exporter": "python",
   "pygments_lexer": "ipython3",
   "version": "3.9.7"
  }
 },
 "nbformat": 4,
 "nbformat_minor": 5
}
